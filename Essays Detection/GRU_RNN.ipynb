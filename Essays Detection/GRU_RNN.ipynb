{
  "nbformat": 4,
  "nbformat_minor": 0,
  "metadata": {
    "colab": {
      "provenance": []
    },
    "kernelspec": {
      "name": "python3",
      "display_name": "Python 3"
    },
    "language_info": {
      "name": "python"
    }
  },
  "cells": [
    {
      "cell_type": "code",
      "execution_count": null,
      "metadata": {
        "colab": {
          "base_uri": "https://localhost:8080/"
        },
        "id": "7wKmmEISodJd",
        "outputId": "bf82c6f5-9d2a-477c-fe2f-112bb90ed7fd"
      },
      "outputs": [
        {
          "name": "stdout",
          "output_type": "stream",
          "text": [
            "Epoch 1/5\n"
          ]
        },
        {
          "name": "stderr",
          "output_type": "stream",
          "text": [
            "/usr/local/lib/python3.10/dist-packages/keras/src/layers/core/embedding.py:90: UserWarning: Argument `input_length` is deprecated. Just remove it.\n",
            "  warnings.warn(\n"
          ]
        },
        {
          "name": "stdout",
          "output_type": "stream",
          "text": [
            "\u001b[1m72/72\u001b[0m \u001b[32m━━━━━━━━━━━━━━━━━━━━\u001b[0m\u001b[37m\u001b[0m \u001b[1m211s\u001b[0m 3s/step - accuracy: 0.7890 - loss: 0.7631 - val_accuracy: 0.8988 - val_loss: 0.2418\n",
            "Epoch 2/5\n",
            "\u001b[1m72/72\u001b[0m \u001b[32m━━━━━━━━━━━━━━━━━━━━\u001b[0m\u001b[37m\u001b[0m \u001b[1m250s\u001b[0m 3s/step - accuracy: 0.9265 - loss: 0.1638 - val_accuracy: 0.9232 - val_loss: 0.1512\n",
            "Epoch 3/5\n",
            "\u001b[1m72/72\u001b[0m \u001b[32m━━━━━━━━━━━━━━━━━━━━\u001b[0m\u001b[37m\u001b[0m \u001b[1m201s\u001b[0m 3s/step - accuracy: 0.9382 - loss: 0.1104 - val_accuracy: 0.9319 - val_loss: 0.1440\n",
            "Epoch 4/5\n",
            "\u001b[1m72/72\u001b[0m \u001b[32m━━━━━━━━━━━━━━━━━━━━\u001b[0m\u001b[37m\u001b[0m \u001b[1m201s\u001b[0m 3s/step - accuracy: 0.9677 - loss: 0.0795 - val_accuracy: 0.9302 - val_loss: 0.1301\n",
            "Epoch 5/5\n",
            "\u001b[1m72/72\u001b[0m \u001b[32m━━━━━━━━━━━━━━━━━━━━\u001b[0m\u001b[37m\u001b[0m \u001b[1m201s\u001b[0m 3s/step - accuracy: 0.9818 - loss: 0.0563 - val_accuracy: 0.9319 - val_loss: 0.1427\n",
            "\u001b[1m18/18\u001b[0m \u001b[32m━━━━━━━━━━━━━━━━━━━━\u001b[0m\u001b[37m\u001b[0m \u001b[1m7s\u001b[0m 351ms/step\n",
            "Accuracy: 0.9319\n",
            "Precision: 0.9282\n",
            "Recall: 0.9319\n",
            "F1-score: 0.9298\n",
            "              precision    recall  f1-score   support\n",
            "\n",
            "         GPT       0.56      0.47      0.51        40\n",
            "        BIRD       0.56      0.57      0.57        40\n",
            "       Human       0.99      1.00      0.99       493\n",
            "\n",
            "    accuracy                           0.93       573\n",
            "   macro avg       0.70      0.68      0.69       573\n",
            "weighted avg       0.93      0.93      0.93       573\n",
            "\n"
          ]
        }
      ],
      "source": [
        "import pandas as pd\n",
        "import numpy as np\n",
        "from sklearn.model_selection import train_test_split\n",
        "from sklearn.metrics import accuracy_score, precision_score, recall_score, f1_score, classification_report\n",
        "from tensorflow.keras.models import Sequential\n",
        "from tensorflow.keras.layers import Embedding, GRU, Dense, Dropout\n",
        "from tensorflow.keras.preprocessing.text import Tokenizer\n",
        "from tensorflow.keras.preprocessing.sequence import pad_sequences\n",
        "\n",
        "#  Load datasets\n",
        "bird_essays = pd.read_csv('/content/drive/MyDrive/data/BARD/BARD_essay.csv')  # columns: index, prompts, BARD\n",
        "gpt_essays = pd.read_csv('/content/drive/MyDrive/data/GPT/ChatGPT_essay.csv')    # columns: index, prompts, responses\n",
        "human_essays = pd.read_csv('/content/drive/MyDrive/data/Human/human_essay_1.csv') # columns: index, essays\n",
        "\n",
        "# Prepare the texts and add source labels\n",
        "bird_essays['text'] = bird_essays['BARD']\n",
        "gpt_essays['text'] = gpt_essays['responses']\n",
        "human_essays['text'] = human_essays['essays']\n",
        "\n",
        "# Add source labels\n",
        "bird_essays['source'] = 1  # BIRD\n",
        "gpt_essays['source'] = 0    # GPT\n",
        "human_essays['source'] = 2   # Human\n",
        "\n",
        "# Combine datasets\n",
        "essays_data = pd.concat([bird_essays[['text', 'source']], gpt_essays[['text', 'source']], human_essays[['text', 'source']]], ignore_index=True)\n",
        "\n",
        "# Clean the text (example cleaning steps)\n",
        "essays_data['text'] = (\n",
        "    essays_data['text'].str.replace(r'http\\S+|www\\S+|https\\S+', '', case=False)\n",
        "    .str.replace(r'<.*?>', '', case=False)\n",
        "    .str.replace(r'\\s+', ' ', regex=True)\n",
        "    .str.lower()\n",
        ")\n",
        "\n",
        "# Prepare features and labels\n",
        "X = essays_data['text']\n",
        "y = essays_data['source']\n",
        "\n",
        "# Tokenization\n",
        "tokenizer = Tokenizer()\n",
        "tokenizer.fit_on_texts(X)\n",
        "X_sequences = tokenizer.texts_to_sequences(X)\n",
        "\n",
        "# Calculate max sequence length and vocabulary size\n",
        "max_length = max(len(seq) for seq in X_sequences)\n",
        "vocab_size = len(tokenizer.word_index) + 1  # +1 for padding\n",
        "\n",
        "# Pad sequences\n",
        "X_padded = pad_sequences(X_sequences, maxlen=max_length)\n",
        "\n",
        "# Split data into train and test sets\n",
        "X_train, X_test, y_train, y_test = train_test_split(X_padded, y, test_size=0.2, random_state=42, stratify=y)\n",
        "\n",
        "# RNN model architecture using GRU\n",
        "model = Sequential()\n",
        "model.add(Embedding(input_dim=vocab_size, output_dim=128, input_length=max_length))\n",
        "model.add(GRU(64, return_sequences=False))  # GRU layer\n",
        "model.add(Dropout(0.5))  # Dropout for regularization\n",
        "model.add(Dense(3, activation='softmax'))  # 3 classes for multiclass classification\n",
        "\n",
        "model.compile(optimizer='adam', loss='sparse_categorical_crossentropy', metrics=['accuracy'])\n",
        "\n",
        "# Train the model\n",
        "model.fit(X_train, y_train, validation_data=(X_test, y_test), epochs=5, batch_size=32)\n",
        "\n",
        "# Evaluate the model\n",
        "y_pred = np.argmax(model.predict(X_test), axis=-1)\n",
        "\n",
        "# Calculate metrics\n",
        "accuracy = accuracy_score(y_test, y_pred)\n",
        "precision = precision_score(y_test, y_pred, average='weighted')\n",
        "recall = recall_score(y_test, y_pred, average='weighted')\n",
        "f1 = f1_score(y_test, y_pred, average='weighted')\n",
        "\n",
        "# Print results\n",
        "print(f\"Accuracy: {accuracy:.4f}\")\n",
        "print(f\"Precision: {precision:.4f}\")\n",
        "print(f\"Recall: {recall:.4f}\")\n",
        "print(f\"F1-score: {f1:.4f}\")\n",
        "print(classification_report(y_test, y_pred, target_names=['GPT', 'BIRD', 'Human']))\n"
      ]
    }
  ]
}