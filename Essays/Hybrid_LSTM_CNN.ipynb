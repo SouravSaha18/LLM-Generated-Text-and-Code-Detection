{
  "nbformat": 4,
  "nbformat_minor": 0,
  "metadata": {
    "colab": {
      "provenance": []
    },
    "kernelspec": {
      "name": "python3",
      "display_name": "Python 3"
    },
    "language_info": {
      "name": "python"
    }
  },
  "cells": [
    {
      "cell_type": "code",
      "source": [
        "import pandas as pd\n",
        "import numpy as np\n",
        "from sklearn.model_selection import train_test_split\n",
        "from sklearn.metrics import accuracy_score, precision_score, recall_score, f1_score, classification_report\n",
        "from tensorflow.keras.models import Sequential\n",
        "from tensorflow.keras.layers import Embedding, LSTM, Conv1D, MaxPooling1D, Flatten, Dense, Dropout\n",
        "from tensorflow.keras.preprocessing.text import Tokenizer\n",
        "from tensorflow.keras.preprocessing.sequence import pad_sequences\n",
        "\n",
        "# Load datasets\n",
        "bird_essays = pd.read_csv('/content/drive/MyDrive/data/BARD/BARD_essay.csv')  # columns: index, prompts, BARD\n",
        "gpt_essays = pd.read_csv('/content/drive/MyDrive/data/GPT/ChatGPT_essay.csv')    # columns: index, prompts, responses\n",
        "human_essays = pd.read_csv('/content/drive/MyDrive/data/Human/human_essay_1.csv') # columns: index, essays\n",
        "\n",
        "# Prepare the texts and add source labels\n",
        "bird_essays['text'] = bird_essays['BARD']\n",
        "gpt_essays['text'] = gpt_essays['responses']\n",
        "human_essays['text'] = human_essays['essays']\n",
        "\n",
        "# Add source labels\n",
        "bird_essays['source'] = 1  # BARD\n",
        "gpt_essays['source'] = 0    # GPT\n",
        "human_essays['source'] = 2   # Human\n",
        "\n",
        "# Combine datasets\n",
        "essays_data = pd.concat([bird_essays[['text', 'source']], gpt_essays[['text', 'source']], human_essays[['text', 'source']]], ignore_index=True)\n",
        "\n",
        "# Clean the text (example cleaning steps)\n",
        "essays_data['text'] = (\n",
        "    essays_data['text'].str.replace(r'http\\S+|www\\S+|https\\S+', '', case=False)\n",
        "    .str.replace(r'<.*?>', '', case=False)\n",
        "    .str.replace(r'\\s+', ' ', regex=True)\n",
        "    .str.lower()\n",
        ")\n",
        "\n",
        "# Prepare features and labels\n",
        "X = essays_data['text']\n",
        "y = essays_data['source']\n",
        "\n",
        "# Tokenization\n",
        "tokenizer = Tokenizer()\n",
        "tokenizer.fit_on_texts(X)\n",
        "X_sequences = tokenizer.texts_to_sequences(X)\n",
        "\n",
        "# Calculate max sequence length and vocabulary size\n",
        "max_length = max(len(seq) for seq in X_sequences)\n",
        "vocab_size = len(tokenizer.word_index) + 1  # +1 for padding\n",
        "\n",
        "# Pad sequences\n",
        "X_padded = pad_sequences(X_sequences, maxlen=max_length)\n",
        "\n",
        "# Split data into train and test sets\n",
        "X_train, X_test, y_train, y_test = train_test_split(X_padded, y, test_size=0.2, random_state=42, stratify=y)\n",
        "\n",
        "# LSTM-CNN model architecture\n",
        "model = Sequential()\n",
        "model.add(Embedding(input_dim=vocab_size, output_dim=128, input_length=max_length))\n",
        "model.add(LSTM(64, return_sequences=True))  # LSTM layer first\n",
        "model.add(Conv1D(filters=128, kernel_size=5, activation='relu'))  # CNN layer after LSTM\n",
        "model.add(MaxPooling1D(pool_size=2))\n",
        "model.add(Flatten())\n",
        "model.add(Dropout(0.5))  # Dropout for regularization\n",
        "model.add(Dense(64, activation='relu'))  # Fully connected layer\n",
        "model.add(Dense(3, activation='softmax'))  # 3 classes for multiclass classification\n",
        "\n",
        "# Compile the model\n",
        "model.compile(optimizer='adam', loss='sparse_categorical_crossentropy', metrics=['accuracy'])\n",
        "\n",
        "# Train the model\n",
        "model.fit(X_train, y_train, validation_data=(X_test, y_test), epochs=5, batch_size=32)\n",
        "\n",
        "# Evaluate the model\n",
        "y_pred = np.argmax(model.predict(X_test), axis=-1)\n",
        "\n",
        "# Calculate metrics\n",
        "accuracy = accuracy_score(y_test, y_pred)\n",
        "precision = precision_score(y_test, y_pred, average='weighted')\n",
        "recall = recall_score(y_test, y_pred, average='weighted')\n",
        "f1 = f1_score(y_test, y_pred, average='weighted')\n",
        "\n",
        "# Print results\n",
        "print(f\"Accuracy: {accuracy:.4f}\")\n",
        "print(f\"Precision: {precision:.4f}\")\n",
        "print(f\"Recall: {recall:.4f}\")\n",
        "print(f\"F1-score: {f1:.4f}\")\n",
        "print(classification_report(y_test, y_pred, target_names=['GPT', 'BARD', 'Human']))\n"
      ],
      "metadata": {
        "colab": {
          "base_uri": "https://localhost:8080/"
        },
        "id": "EWS5FiPwjIX-",
        "outputId": "63185904-c8a7-475e-b0ac-96f6afbc9762"
      },
      "execution_count": null,
      "outputs": [
        {
          "output_type": "stream",
          "name": "stderr",
          "text": [
            "/usr/local/lib/python3.10/dist-packages/keras/src/layers/core/embedding.py:90: UserWarning: Argument `input_length` is deprecated. Just remove it.\n",
            "  warnings.warn(\n"
          ]
        },
        {
          "output_type": "stream",
          "name": "stdout",
          "text": [
            "Epoch 1/5\n",
            "\u001b[1m72/72\u001b[0m \u001b[32m━━━━━━━━━━━━━━━━━━━━\u001b[0m\u001b[37m\u001b[0m \u001b[1m297s\u001b[0m 4s/step - accuracy: 0.8734 - loss: 0.3703 - val_accuracy: 0.8831 - val_loss: 0.2432\n",
            "Epoch 2/5\n",
            "\u001b[1m72/72\u001b[0m \u001b[32m━━━━━━━━━━━━━━━━━━━━\u001b[0m\u001b[37m\u001b[0m \u001b[1m258s\u001b[0m 4s/step - accuracy: 0.9609 - loss: 0.0945 - val_accuracy: 0.9407 - val_loss: 0.1650\n",
            "Epoch 3/5\n",
            "\u001b[1m72/72\u001b[0m \u001b[32m━━━━━━━━━━━━━━━━━━━━\u001b[0m\u001b[37m\u001b[0m \u001b[1m270s\u001b[0m 4s/step - accuracy: 0.9835 - loss: 0.0493 - val_accuracy: 0.9756 - val_loss: 0.1092\n",
            "Epoch 4/5\n",
            "\u001b[1m72/72\u001b[0m \u001b[32m━━━━━━━━━━━━━━━━━━━━\u001b[0m\u001b[37m\u001b[0m \u001b[1m311s\u001b[0m 4s/step - accuracy: 0.9982 - loss: 0.0150 - val_accuracy: 0.9651 - val_loss: 0.2644\n",
            "Epoch 5/5\n",
            "\u001b[1m72/72\u001b[0m \u001b[32m━━━━━━━━━━━━━━━━━━━━\u001b[0m\u001b[37m\u001b[0m \u001b[1m263s\u001b[0m 4s/step - accuracy: 0.9975 - loss: 0.0091 - val_accuracy: 0.9773 - val_loss: 0.2346\n",
            "\u001b[1m18/18\u001b[0m \u001b[32m━━━━━━━━━━━━━━━━━━━━\u001b[0m\u001b[37m\u001b[0m \u001b[1m12s\u001b[0m 676ms/step\n",
            "Accuracy: 0.9773\n",
            "Precision: 0.9773\n",
            "Recall: 0.9773\n",
            "F1-score: 0.9768\n",
            "              precision    recall  f1-score   support\n",
            "\n",
            "         GPT       0.91      0.78      0.84        40\n",
            "        BARD       0.84      0.90      0.87        40\n",
            "       Human       0.99      1.00      1.00       493\n",
            "\n",
            "    accuracy                           0.98       573\n",
            "   macro avg       0.91      0.89      0.90       573\n",
            "weighted avg       0.98      0.98      0.98       573\n",
            "\n"
          ]
        }
      ]
    }
  ]
}