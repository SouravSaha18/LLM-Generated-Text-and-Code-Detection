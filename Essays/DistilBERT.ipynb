{
  "nbformat": 4,
  "nbformat_minor": 0,
  "metadata": {
    "colab": {
      "provenance": []
    },
    "kernelspec": {
      "name": "python3",
      "display_name": "Python 3"
    },
    "language_info": {
      "name": "python"
    }
  },
  "cells": [
    {
      "cell_type": "code",
      "execution_count": null,
      "metadata": {
        "colab": {
          "background_save": true,
          "base_uri": "https://localhost:8080/",
          "height": 529,
          "referenced_widgets": [
            "696e2606d242483d8d3ab92f40dbc731",
            "4ccde450578b4c52af585c26b5f1187b",
            "1366c92c90d049d6bc595bda09f4a71e",
            "a2c4e518c1d540f5abab1873cb1efbb1",
            "8c419cbe7eb945b0b9a5a015ec9d4730",
            "204335e04d6b41579f65c1d60d750d5a",
            "3ab584420afa48f6bc13f68fa59ea913",
            "df5c5fb060d048b685665f622dbad949",
            "485cb47e9ea9443594d4c82bb4c31245",
            "2edacd0828bd4d4aba48bb9938e22b77",
            "85c8a53a9252419cbcb4c64d9c5dc5b8",
            "d519a6ce8e7346b5815573c4a39d4998",
            "7719dfa16a974b87ad1a23f1566dbd3b",
            "4cab23bc27074b01b5d00aefb5d476e4",
            "b3795bc1f5514105892679b8bebe6bab",
            "f9d2310b9a1f441a8784a6eb1a7e639a",
            "c9682d77c6af40bb8d2fbefe3719e412",
            "aef879a16a9c4e3d9d9c3028c02d233b",
            "a3c4b47dd7b3420f9b0252f3f312a2e0",
            "579f52ee1d044390aec122b542c04e84",
            "ac41ef1706ea48b78e520e63e5b4dae5",
            "666679f7caab4959a4cce9b861bc3021",
            "c6caf46e7b004c0385b74c85b8c4a4ef",
            "bcfe11ee79af454e996e9d858bf81bb6",
            "ea22854573674fe8ac8381555c3dc2b8",
            "b638d7a5159e468d8690e7dcf54de173",
            "61554d9bbeae4b1591e559979a1e39a5",
            "a53d325783194c17a5fcb02c95e2819e",
            "4296b44bffde4ffbaad862954d6f11b7",
            "536e3c0937624823b00d4b3315e2d6a5",
            "b200a4038774422fad793111aa9e6715",
            "c55247a1e3c844c99e6961c1c51a6de8",
            "ea472e8dc7534a0cac692ffe65056ccc",
            "60b0229bb7da469dbea3768558642dc3",
            "2d4e0c7ae8f54e41909c08d5b7e84ffe",
            "358671fb5cf24587877f6d437effe64b",
            "2be5171859f0448c95d247c1bac66a50",
            "7558ef54f8d94dd89d6eb27ae3ba2ea2",
            "ea35cacd5d664d73971351db7d3a14f0",
            "e22926ca7456434ab077eb5b048dd96b",
            "1793370da2504bbf9156616181ba6719",
            "0674bba846c846e5a489762ed14aea20",
            "3275e53c32764ec39b4b89effa45569b",
            "f017fbe949fc417ab50aa8dd3886e560",
            "722104a3fba0446a87f76b9cda702da7",
            "0ded96942ec24ff9a21bb11929792968",
            "b25bece239c04e7c9ffcab8826a14954",
            "c8ae0f38484548fd870e5317f8c6aacf",
            "989c5dabda0f4dbca1c6b1508f46535a",
            "7a030ad5616544bbbf65b5bca30b0e3d",
            "0000c2588d31422487eec06ddc28b984",
            "03683a2050d74aa2a13df5b5f8353bed",
            "7982fecf56584f1b9664fecfb1cf6582",
            "2d05c8df52704b2fac616cc481b49f48",
            "df9c7c17033e4e00ba4a2959714bf3ca"
          ]
        },
        "id": "il3BZuuyEtJ9",
        "outputId": "9d0f7038-43d7-4662-b372-3fffdf766bf5"
      },
      "outputs": [
        {
          "name": "stderr",
          "output_type": "stream",
          "text": [
            "/usr/local/lib/python3.10/dist-packages/huggingface_hub/utils/_token.py:89: UserWarning: \n",
            "The secret `HF_TOKEN` does not exist in your Colab secrets.\n",
            "To authenticate with the Hugging Face Hub, create a token in your settings tab (https://huggingface.co/settings/tokens), set it as secret in your Google Colab and restart your session.\n",
            "You will be able to reuse this secret in all of your notebooks.\n",
            "Please note that authentication is recommended but still optional to access public models or datasets.\n",
            "  warnings.warn(\n"
          ]
        },
        {
          "data": {
            "application/vnd.jupyter.widget-view+json": {
              "model_id": "696e2606d242483d8d3ab92f40dbc731",
              "version_major": 2,
              "version_minor": 0
            },
            "text/plain": [
              "tokenizer_config.json:   0%|          | 0.00/48.0 [00:00<?, ?B/s]"
            ]
          },
          "metadata": {},
          "output_type": "display_data"
        },
        {
          "data": {
            "application/vnd.jupyter.widget-view+json": {
              "model_id": "d519a6ce8e7346b5815573c4a39d4998",
              "version_major": 2,
              "version_minor": 0
            },
            "text/plain": [
              "vocab.txt:   0%|          | 0.00/232k [00:00<?, ?B/s]"
            ]
          },
          "metadata": {},
          "output_type": "display_data"
        },
        {
          "data": {
            "application/vnd.jupyter.widget-view+json": {
              "model_id": "c6caf46e7b004c0385b74c85b8c4a4ef",
              "version_major": 2,
              "version_minor": 0
            },
            "text/plain": [
              "tokenizer.json:   0%|          | 0.00/466k [00:00<?, ?B/s]"
            ]
          },
          "metadata": {},
          "output_type": "display_data"
        },
        {
          "data": {
            "application/vnd.jupyter.widget-view+json": {
              "model_id": "60b0229bb7da469dbea3768558642dc3",
              "version_major": 2,
              "version_minor": 0
            },
            "text/plain": [
              "config.json:   0%|          | 0.00/483 [00:00<?, ?B/s]"
            ]
          },
          "metadata": {},
          "output_type": "display_data"
        },
        {
          "name": "stderr",
          "output_type": "stream",
          "text": [
            "/usr/local/lib/python3.10/dist-packages/transformers/tokenization_utils_base.py:1601: FutureWarning: `clean_up_tokenization_spaces` was not set. It will be set to `True` by default. This behavior will be depracted in transformers v4.45, and will be then set to `False` by default. For more details check this issue: https://github.com/huggingface/transformers/issues/31884\n",
            "  warnings.warn(\n"
          ]
        },
        {
          "data": {
            "application/vnd.jupyter.widget-view+json": {
              "model_id": "722104a3fba0446a87f76b9cda702da7",
              "version_major": 2,
              "version_minor": 0
            },
            "text/plain": [
              "model.safetensors:   0%|          | 0.00/268M [00:00<?, ?B/s]"
            ]
          },
          "metadata": {},
          "output_type": "display_data"
        },
        {
          "name": "stderr",
          "output_type": "stream",
          "text": [
            "Some weights of DistilBertForSequenceClassification were not initialized from the model checkpoint at distilbert-base-uncased and are newly initialized: ['classifier.bias', 'classifier.weight', 'pre_classifier.bias', 'pre_classifier.weight']\n",
            "You should probably TRAIN this model on a down-stream task to be able to use it for predictions and inference.\n",
            "<ipython-input-1-30a4b187a946>:80: FutureWarning: `torch.cuda.amp.GradScaler(args...)` is deprecated. Please use `torch.amp.GradScaler('cuda', args...)` instead.\n",
            "  scaler = GradScaler()\n",
            "/usr/local/lib/python3.10/dist-packages/torch/amp/grad_scaler.py:132: UserWarning: torch.cuda.amp.GradScaler is enabled, but CUDA is not available.  Disabling.\n",
            "  warnings.warn(\n",
            "<ipython-input-1-30a4b187a946>:92: FutureWarning: `torch.cuda.amp.autocast(args...)` is deprecated. Please use `torch.amp.autocast('cuda', args...)` instead.\n",
            "  with autocast():\n",
            "/usr/local/lib/python3.10/dist-packages/torch/amp/autocast_mode.py:265: UserWarning: User provided device_type of 'cuda', but CUDA is not available. Disabling\n",
            "  warnings.warn(\n"
          ]
        },
        {
          "name": "stdout",
          "output_type": "stream",
          "text": [
            "Accuracy: 0.9860\n",
            "Precision: 0.9860\n",
            "Recall: 0.9860\n",
            "F1-score: 0.9860\n",
            "              precision    recall  f1-score   support\n",
            "\n",
            "         GPT       0.90      0.90      0.90        40\n",
            "        BARD       0.90      0.90      0.90        40\n",
            "       Human       1.00      1.00      1.00       493\n",
            "\n",
            "    accuracy                           0.99       573\n",
            "   macro avg       0.93      0.93      0.93       573\n",
            "weighted avg       0.99      0.99      0.99       573\n",
            "\n"
          ]
        }
      ],
      "source": [
        "import pandas as pd\n",
        "import torch\n",
        "from transformers import DistilBertTokenizer, DistilBertForSequenceClassification\n",
        "from torch.utils.data import DataLoader, Dataset\n",
        "from sklearn.model_selection import train_test_split\n",
        "from sklearn.metrics import accuracy_score, precision_score, recall_score, f1_score, classification_report\n",
        "\n",
        "# Load datasets\n",
        "bird_essays = pd.read_csv('/content/drive/MyDrive/data/BARD/BARD_essay.csv')  # columns: index, prompts, BARD\n",
        "gpt_essays = pd.read_csv('/content/drive/MyDrive/data/GPT/ChatGPT_essay.csv')    # columns: index, prompts, responses\n",
        "human_essays = pd.read_csv('/content/drive/MyDrive/data/Human/human_essay_1.csv') # columns: index, essays\n",
        "\n",
        "# Prepare the texts and add source labels\n",
        "bird_essays['text'] = bird_essays['BARD']  # Adjust the column name accordingly\n",
        "gpt_essays['text'] = gpt_essays['responses']  # Adjust the column name accordingly\n",
        "human_essays['text'] = human_essays['essays']  # Adjust the column name accordingly\n",
        "\n",
        "# Add source labels\n",
        "bird_essays['source'] = 1  # BARD\n",
        "gpt_essays['source'] = 0    # GPT\n",
        "human_essays['source'] = 2   # Human\n",
        "\n",
        "# Combine datasets\n",
        "essays_data = pd.concat([bird_essays[['text', 'source']], gpt_essays[['text', 'source']], human_essays[['text', 'source']]], ignore_index=True)\n",
        "\n",
        "# Clean the text\n",
        "essays_data['text'] = (\n",
        "    essays_data['text'].str.replace(r'http\\S+|www\\S+|https\\S+', '', case=False)  # Remove URLs\n",
        "    .str.replace(r'<.*?>', '', case=False)  # Remove HTML tags\n",
        "    .str.replace(r'\\s+', ' ', regex=True)  # Remove extra whitespaces\n",
        "    .str.lower()  # Convert to lowercase\n",
        ")\n",
        "\n",
        "# Handle NaN values: replace NaN with an empty string\n",
        "essays_data['text'] = essays_data['text'].fillna('')\n",
        "\n",
        "# Prepare features and labels\n",
        "X = essays_data['text']\n",
        "y = essays_data['source']\n",
        "\n",
        "# Tokenization with DistilBERT tokenizer\n",
        "tokenizer = DistilBertTokenizer.from_pretrained('distilbert-base-uncased')\n",
        "train_texts, test_texts, y_train, y_test = train_test_split(X, y, test_size=0.2, random_state=42, stratify=y)\n",
        "\n",
        "train_encodings = tokenizer(list(train_texts), truncation=True, padding=True, max_length=256)  # Reduced sequence length to 256\n",
        "test_encodings = tokenizer(list(test_texts), truncation=True, padding=True, max_length=256)\n",
        "\n",
        "# Define dataset class\n",
        "class EssaysDataset(Dataset):\n",
        "    def __init__(self, encodings, labels):\n",
        "        self.encodings = encodings\n",
        "        self.labels = labels\n",
        "\n",
        "    def __getitem__(self, idx):\n",
        "        item = {key: torch.tensor(val[idx]) for key, val in self.encodings.items()}\n",
        "        item['labels'] = torch.tensor(self.labels[idx])\n",
        "        return item\n",
        "\n",
        "    def __len__(self):\n",
        "        return len(self.labels)\n",
        "\n",
        "# Create datasets\n",
        "train_dataset = EssaysDataset(train_encodings, y_train.values)\n",
        "test_dataset = EssaysDataset(test_encodings, y_test.values)\n",
        "\n",
        "# Load pre-trained DistilBERT model for classification\n",
        "model = DistilBertForSequenceClassification.from_pretrained('distilbert-base-uncased', num_labels=3)\n",
        "\n",
        "# Set up DataLoader with a smaller batch size\n",
        "train_loader = DataLoader(train_dataset, batch_size=4, shuffle=True)  # Reduced batch size to 4\n",
        "test_loader = DataLoader(test_dataset, batch_size=4, shuffle=False)\n",
        "\n",
        "# Move model to device\n",
        "device = torch.device('cuda' if torch.cuda.is_available() else 'cpu')\n",
        "model.to(device)\n",
        "\n",
        "# Mixed precision setup\n",
        "from torch.cuda.amp import GradScaler, autocast\n",
        "\n",
        "scaler = GradScaler()\n",
        "\n",
        "# Optimizer\n",
        "optimizer = torch.optim.AdamW(model.parameters(), lr=1e-5)\n",
        "\n",
        "# Training loop with gradient accumulation and mixed precision\n",
        "accumulation_steps = 4  # Accumulate gradients over 4 steps\n",
        "\n",
        "model.train()\n",
        "for epoch in range(3):  # You can increase the number of epochs for better performance\n",
        "    optimizer.zero_grad()\n",
        "    for i, batch in enumerate(train_loader):\n",
        "        with autocast():\n",
        "            inputs = {key: val.to(device) for key, val in batch.items() if key != 'labels'}\n",
        "            labels = batch['labels'].to(device)\n",
        "            outputs = model(**inputs, labels=labels)\n",
        "            loss = outputs.loss / accumulation_steps  # Normalize the loss by accumulation steps\n",
        "            scaler.scale(loss).backward()\n",
        "\n",
        "        # Perform optimization step every `accumulation_steps` batches\n",
        "        if (i + 1) % accumulation_steps == 0:\n",
        "            scaler.step(optimizer)\n",
        "            scaler.update()\n",
        "            optimizer.zero_grad()\n",
        "\n",
        "# Evaluation\n",
        "model.eval()\n",
        "y_pred = []\n",
        "\n",
        "with torch.no_grad():\n",
        "    for batch in test_loader:\n",
        "        inputs = {key: val.to(device) for key, val in batch.items() if key != 'labels'}\n",
        "        outputs = model(**inputs)\n",
        "        logits = outputs.logits\n",
        "        predictions = torch.argmax(logits, dim=-1)\n",
        "        y_pred.extend(predictions.cpu().numpy())\n",
        "\n",
        "# Calculate metrics\n",
        "accuracy = accuracy_score(y_test, y_pred)\n",
        "precision = precision_score(y_test, y_pred, average='weighted')\n",
        "recall = recall_score(y_test, y_pred, average='weighted')\n",
        "f1 = f1_score(y_test, y_pred, average='weighted')\n",
        "\n",
        "# Print results\n",
        "print(f\"Accuracy: {accuracy:.4f}\")\n",
        "print(f\"Precision: {precision:.4f}\")\n",
        "print(f\"Recall: {recall:.4f}\")\n",
        "print(f\"F1-score: {f1:.4f}\")\n",
        "print(classification_report(y_test, y_pred, target_names=['GPT', 'BARD', 'Human']))\n"
      ]
    }
  ]
}