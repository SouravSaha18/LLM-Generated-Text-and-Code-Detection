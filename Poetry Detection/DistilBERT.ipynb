{
  "nbformat": 4,
  "nbformat_minor": 0,
  "metadata": {
    "colab": {
      "provenance": []
    },
    "kernelspec": {
      "name": "python3",
      "display_name": "Python 3"
    },
    "language_info": {
      "name": "python"
    }
  },
  "cells": [
    {
      "cell_type": "code",
      "execution_count": null,
      "metadata": {
        "colab": {
          "background_save": true,
          "base_uri": "https://localhost:8080/",
          "height": 529,
          "referenced_widgets": [
            "d2f900c9171c4aea919d5b2e4dd8bf65",
            "d581c6b994b7446789d74d83fcea5dce",
            "5d566aa1dc564c0b8cdc646cb8578307",
            "12832c6472394e42966a966fc9ace8e6",
            "df3c274a5bbe476bbaba382734df4bf7",
            "c22915d34f424072bdfc68f1f4cdec21",
            "16adb48b33b548e9b6fc33cfea11a20a",
            "314cac36a8594cf69fb26c156b424b9d",
            "b3c2941acbd5429fa1f1b9f100b14cec",
            "5fc6f456721d4190b6e5d15052dc6306",
            "3c0a28679169412d82365008640134c5",
            "2898ade3f6ff4657a3b73aff2476b7ca",
            "15f4f71be3f2450fabf54bfa62cea8c6",
            "ad5679e27fbe4a8180aab4428a7612a1",
            "5d42e5c92b8f45308e4c648adabbbfc7",
            "04b5fcedbbd6482fb3d175a6edef126b",
            "4cc7e75529994015a7a63c7e0872e0aa",
            "3349f3c407044a299a31fa956d26a215",
            "b5b5242e6c194f0ca44d0bf666056985",
            "ff233a472ed541fbad75b3cad6de45fa",
            "4914549e38044e1c83f6034cf3af67d4",
            "9d8a350a78b04045ab75a5397e84342c",
            "c60a70f7215f4c899ca16c4622f4b5b5",
            "d8b897ba15504389a8c0a1eaf9b3496f",
            "19921c2cd4624c1c83f675b911400f98",
            "e2678820199e4baf9f9ba44474624ead",
            "8ecea1308b064759a6d7906a583be598",
            "4d4c3609255a45b2b8e48b81b84b68c3",
            "2e42df1c9b8f457392b4795d6ac52387",
            "635c14033a5344b984385b227961cd98",
            "08465270348a4afe87c5c6364bc68ff3",
            "11f3d39f9d394249a4d3e27ddeed5263",
            "c171e43e95e94c80995c85d55e37204a",
            "3c6f1faa831d4d46adbb7bb838b5ed8e",
            "298623ae5f0d4766b1743e209fb6edf0",
            "fd712cee47454f57b94056d60c9edd5f",
            "2392aa892d8f44dfbb7e2a515f3deeee",
            "09e046ba08ce441793a42e541eaccd70",
            "f7342244e4d24dcba5e7e74edf63e6a0",
            "e7a8f845b7bb467a8e0f85ecd2df3424",
            "48e056514d514282aeae781dd9467fd6",
            "937b1a586d2945d0bd4fb29fe07185c8",
            "1d51247e49524f5287232a03c860f6e7",
            "0002a74e7bee425a8fbaf5a0f4c9db16",
            "c127c4d6799447f08601f2ff85d4da42",
            "6ca5c79769984516b70726f2af020ea0",
            "ea9726eaa26e4882b34009b18f43caf8",
            "48c87a7042fa4dee92f8b4aed28f6e25",
            "6215c11c550d438e974d096ef104a2db",
            "2000b0a4b68b4090b3f41bc6aaab0af5",
            "519ea665b0a546479546e6a0ea34a70f",
            "3dd554dfefcc44759bc784fd308b8acc",
            "649caeb486044d1d8b56e1364d508e68",
            "24a626d299a642b89546324a8895f643",
            "208e4a1fa0dc4a41b3aef327c3514fa5"
          ]
        },
        "id": "kFiaST5fVwxL",
        "outputId": "904a5891-88c0-480d-8aab-101baeb21293"
      },
      "outputs": [
        {
          "name": "stderr",
          "output_type": "stream",
          "text": [
            "/usr/local/lib/python3.10/dist-packages/huggingface_hub/utils/_token.py:89: UserWarning: \n",
            "The secret `HF_TOKEN` does not exist in your Colab secrets.\n",
            "To authenticate with the Hugging Face Hub, create a token in your settings tab (https://huggingface.co/settings/tokens), set it as secret in your Google Colab and restart your session.\n",
            "You will be able to reuse this secret in all of your notebooks.\n",
            "Please note that authentication is recommended but still optional to access public models or datasets.\n",
            "  warnings.warn(\n"
          ]
        },
        {
          "data": {
            "application/vnd.jupyter.widget-view+json": {
              "model_id": "d2f900c9171c4aea919d5b2e4dd8bf65",
              "version_major": 2,
              "version_minor": 0
            },
            "text/plain": [
              "tokenizer_config.json:   0%|          | 0.00/48.0 [00:00<?, ?B/s]"
            ]
          },
          "metadata": {},
          "output_type": "display_data"
        },
        {
          "data": {
            "application/vnd.jupyter.widget-view+json": {
              "model_id": "2898ade3f6ff4657a3b73aff2476b7ca",
              "version_major": 2,
              "version_minor": 0
            },
            "text/plain": [
              "vocab.txt:   0%|          | 0.00/232k [00:00<?, ?B/s]"
            ]
          },
          "metadata": {},
          "output_type": "display_data"
        },
        {
          "data": {
            "application/vnd.jupyter.widget-view+json": {
              "model_id": "c60a70f7215f4c899ca16c4622f4b5b5",
              "version_major": 2,
              "version_minor": 0
            },
            "text/plain": [
              "tokenizer.json:   0%|          | 0.00/466k [00:00<?, ?B/s]"
            ]
          },
          "metadata": {},
          "output_type": "display_data"
        },
        {
          "data": {
            "application/vnd.jupyter.widget-view+json": {
              "model_id": "3c6f1faa831d4d46adbb7bb838b5ed8e",
              "version_major": 2,
              "version_minor": 0
            },
            "text/plain": [
              "config.json:   0%|          | 0.00/483 [00:00<?, ?B/s]"
            ]
          },
          "metadata": {},
          "output_type": "display_data"
        },
        {
          "name": "stderr",
          "output_type": "stream",
          "text": [
            "/usr/local/lib/python3.10/dist-packages/transformers/tokenization_utils_base.py:1601: FutureWarning: `clean_up_tokenization_spaces` was not set. It will be set to `True` by default. This behavior will be depracted in transformers v4.45, and will be then set to `False` by default. For more details check this issue: https://github.com/huggingface/transformers/issues/31884\n",
            "  warnings.warn(\n"
          ]
        },
        {
          "data": {
            "application/vnd.jupyter.widget-view+json": {
              "model_id": "c127c4d6799447f08601f2ff85d4da42",
              "version_major": 2,
              "version_minor": 0
            },
            "text/plain": [
              "model.safetensors:   0%|          | 0.00/268M [00:00<?, ?B/s]"
            ]
          },
          "metadata": {},
          "output_type": "display_data"
        },
        {
          "name": "stderr",
          "output_type": "stream",
          "text": [
            "Some weights of DistilBertForSequenceClassification were not initialized from the model checkpoint at distilbert-base-uncased and are newly initialized: ['classifier.bias', 'classifier.weight', 'pre_classifier.bias', 'pre_classifier.weight']\n",
            "You should probably TRAIN this model on a down-stream task to be able to use it for predictions and inference.\n",
            "<ipython-input-6-cad89a6812fb>:82: FutureWarning: `torch.cuda.amp.GradScaler(args...)` is deprecated. Please use `torch.amp.GradScaler('cuda', args...)` instead.\n",
            "  scaler = GradScaler()\n",
            "/usr/local/lib/python3.10/dist-packages/torch/amp/grad_scaler.py:132: UserWarning: torch.cuda.amp.GradScaler is enabled, but CUDA is not available.  Disabling.\n",
            "  warnings.warn(\n",
            "<ipython-input-6-cad89a6812fb>:94: FutureWarning: `torch.cuda.amp.autocast(args...)` is deprecated. Please use `torch.amp.autocast('cuda', args...)` instead.\n",
            "  with autocast():\n",
            "/usr/local/lib/python3.10/dist-packages/torch/amp/autocast_mode.py:265: UserWarning: User provided device_type of 'cuda', but CUDA is not available. Disabling\n",
            "  warnings.warn(\n"
          ]
        },
        {
          "name": "stdout",
          "output_type": "stream",
          "text": [
            "Accuracy: 0.9967\n",
            "Precision: 0.9967\n",
            "Recall: 0.9967\n",
            "F1-score: 0.9967\n",
            "              precision    recall  f1-score   support\n",
            "\n",
            "         GPT       1.00      0.98      0.99        50\n",
            "        BARD       1.00      1.00      1.00        50\n",
            "       Human       1.00      1.00      1.00       200\n",
            "\n",
            "    accuracy                           1.00       300\n",
            "   macro avg       1.00      0.99      1.00       300\n",
            "weighted avg       1.00      1.00      1.00       300\n",
            "\n"
          ]
        }
      ],
      "source": [
        "import pandas as pd\n",
        "import torch\n",
        "from transformers import DistilBertTokenizer, DistilBertForSequenceClassification\n",
        "from torch.utils.data import DataLoader, Dataset\n",
        "from sklearn.model_selection import train_test_split\n",
        "from sklearn.metrics import accuracy_score, precision_score, recall_score, f1_score, classification_report\n",
        "\n",
        "# Load poetry datasets\n",
        "bird_poetry = pd.read_csv('/content/drive/MyDrive/data/BARD/BARD_poetry.csv')  # columns: index, prompts, BARD\n",
        "gpt_poetry = pd.read_csv('/content/drive/MyDrive/data/GPT/ChatGPT_poetry.csv')    # columns: prompts, responses\n",
        "human_poetry = pd.read_csv('/content/drive/MyDrive/data/Human/human_poetry.csv') # columns: index, Title, Poem, Poet, Tags\n",
        "\n",
        "# Prepare the texts and add source labels\n",
        "bird_poetry['text'] = bird_poetry['BARD']  # Adjust the column name accordingly\n",
        "gpt_poetry['text'] = gpt_poetry['responses']  # Adjust the column name accordingly\n",
        "human_poetry['text'] = human_poetry['Poem'] + ' ' + human_poetry['Poet'] + ' ' + human_poetry['Tags']\n",
        "\n",
        "# Add source labels\n",
        "bird_poetry['source'] = 1  # BARD\n",
        "gpt_poetry['source'] = 0    # GPT\n",
        "human_poetry['source'] = 2   # Human\n",
        "\n",
        "human_poetry = human_poetry.head(1000)\n",
        "\n",
        "# Combine datasets\n",
        "poetry_data = pd.concat([bird_poetry[['text', 'source']], gpt_poetry[['text', 'source']], human_poetry[['text', 'source']]], ignore_index=True)\n",
        "\n",
        "# Clean the text\n",
        "poetry_data['text'] = (\n",
        "    poetry_data['text'].str.replace(r'http\\S+|www\\S+|https\\S+', '', case=False)  # Remove URLs\n",
        "    .str.replace(r'<.*?>', '', case=False)  # Remove HTML tags\n",
        "    .str.replace(r'\\s+', ' ', regex=True)  # Remove extra whitespaces\n",
        "    .str.lower()  # Convert to lowercase\n",
        ")\n",
        "\n",
        "# Handle NaN values: replace NaN with an empty string\n",
        "poetry_data['text'] = poetry_data['text'].fillna('')\n",
        "\n",
        "# Prepare features and labels\n",
        "X = poetry_data['text']\n",
        "y = poetry_data['source']\n",
        "\n",
        "# Tokenization with DistilBERT tokenizer\n",
        "tokenizer = DistilBertTokenizer.from_pretrained('distilbert-base-uncased')\n",
        "train_texts, test_texts, y_train, y_test = train_test_split(X, y, test_size=0.2, random_state=42, stratify=y)\n",
        "\n",
        "train_encodings = tokenizer(list(train_texts), truncation=True, padding=True, max_length=256)  # Reduced sequence length to 256\n",
        "test_encodings = tokenizer(list(test_texts), truncation=True, padding=True, max_length=256)\n",
        "\n",
        "# Define dataset class\n",
        "class PoetryDataset(Dataset):\n",
        "    def __init__(self, encodings, labels):\n",
        "        self.encodings = encodings\n",
        "        self.labels = labels\n",
        "\n",
        "    def __getitem__(self, idx):\n",
        "        item = {key: torch.tensor(val[idx]) for key, val in self.encodings.items()}\n",
        "        item['labels'] = torch.tensor(self.labels[idx])\n",
        "        return item\n",
        "\n",
        "    def __len__(self):\n",
        "        return len(self.labels)\n",
        "\n",
        "# Create datasets\n",
        "train_dataset = PoetryDataset(train_encodings, y_train.values)\n",
        "test_dataset = PoetryDataset(test_encodings, y_test.values)\n",
        "\n",
        "# Load pre-trained DistilBERT model for classification\n",
        "model = DistilBertForSequenceClassification.from_pretrained('distilbert-base-uncased', num_labels=3)\n",
        "\n",
        "# Set up DataLoader with a smaller batch size\n",
        "train_loader = DataLoader(train_dataset, batch_size=4, shuffle=True)  # Reduced batch size to 4\n",
        "test_loader = DataLoader(test_dataset, batch_size=4, shuffle=False)\n",
        "\n",
        "# Move model to device\n",
        "device = torch.device('cuda' if torch.cuda.is_available() else 'cpu')\n",
        "model.to(device)\n",
        "\n",
        "# Mixed precision setup\n",
        "from torch.cuda.amp import GradScaler, autocast\n",
        "\n",
        "scaler = GradScaler()\n",
        "\n",
        "# Optimizer\n",
        "optimizer = torch.optim.AdamW(model.parameters(), lr=1e-5)\n",
        "\n",
        "# Training loop with gradient accumulation and mixed precision\n",
        "accumulation_steps = 4  # Accumulate gradients over 4 steps\n",
        "\n",
        "model.train()\n",
        "for epoch in range(3):  # You can increase the number of epochs for better performance\n",
        "    optimizer.zero_grad()\n",
        "    for i, batch in enumerate(train_loader):\n",
        "        with autocast():\n",
        "            inputs = {key: val.to(device) for key, val in batch.items() if key != 'labels'}\n",
        "            labels = batch['labels'].to(device)\n",
        "            outputs = model(**inputs, labels=labels)\n",
        "            loss = outputs.loss / accumulation_steps  # Normalize the loss by accumulation steps\n",
        "            scaler.scale(loss).backward()\n",
        "\n",
        "        # Perform optimization step every `accumulation_steps` batches\n",
        "        if (i + 1) % accumulation_steps == 0:\n",
        "            scaler.step(optimizer)\n",
        "            scaler.update()\n",
        "            optimizer.zero_grad()\n",
        "\n",
        "# Evaluation\n",
        "model.eval()\n",
        "y_pred = []\n",
        "\n",
        "with torch.no_grad():\n",
        "    for batch in test_loader:\n",
        "        inputs = {key: val.to(device) for key, val in batch.items() if key != 'labels'}\n",
        "        outputs = model(**inputs)\n",
        "        logits = outputs.logits\n",
        "        predictions = torch.argmax(logits, dim=-1)\n",
        "        y_pred.extend(predictions.cpu().numpy())\n",
        "\n",
        "# Calculate metrics\n",
        "accuracy = accuracy_score(y_test, y_pred)\n",
        "precision = precision_score(y_test, y_pred, average='weighted')\n",
        "recall = recall_score(y_test, y_pred, average='weighted')\n",
        "f1 = f1_score(y_test, y_pred, average='weighted')\n",
        "\n",
        "# Print results\n",
        "print(f\"Accuracy: {accuracy:.4f}\")\n",
        "print(f\"Precision: {precision:.4f}\")\n",
        "print(f\"Recall: {recall:.4f}\")\n",
        "print(f\"F1-score: {f1:.4f}\")\n",
        "print(classification_report(y_test, y_pred, target_names=['GPT', 'BARD', 'Human']))\n"
      ]
    }
  ]
}