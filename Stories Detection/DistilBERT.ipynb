{
  "nbformat": 4,
  "nbformat_minor": 0,
  "metadata": {
    "colab": {
      "provenance": []
    },
    "kernelspec": {
      "name": "python3",
      "display_name": "Python 3"
    },
    "language_info": {
      "name": "python"
    }
  },
  "cells": [
    {
      "cell_type": "code",
      "source": [
        "import pandas as pd\n",
        "import torch\n",
        "from transformers import DistilBertTokenizer, DistilBertForSequenceClassification\n",
        "from torch.utils.data import DataLoader, Dataset\n",
        "from sklearn.model_selection import train_test_split\n",
        "from sklearn.metrics import accuracy_score, precision_score, recall_score, f1_score, classification_report\n",
        "\n",
        "# Load datasets\n",
        "bird_stories = pd.read_csv('/content/drive/MyDrive/data/BARD/BARD_story.csv')  # columns: index, prompts, BARD\n",
        "gpt_stories = pd.read_csv('/content/drive/MyDrive/data/GPT/ChatGPT_story.csv')  # columns: index, prompts, responses\n",
        "human_stories = pd.read_csv('/content/drive/MyDrive/data/Human/human_stories.csv')  # columns: index, Title, Author, Tags, Chapter_text\n",
        "\n",
        "# Prepare the texts and add source labels\n",
        "bird_stories['text'] = bird_stories['BARD']\n",
        "gpt_stories['text'] = gpt_stories['Chapter_text']\n",
        "human_stories['text'] = human_stories['Chapter_text']\n",
        "\n",
        "# Add source labels\n",
        "bird_stories['source'] = 1  # BARD\n",
        "gpt_stories['source'] = 0    # GPT\n",
        "human_stories['source'] = 2   # Human\n",
        "\n",
        "# Combine datasets\n",
        "stories_data = pd.concat([bird_stories[['text', 'source']], gpt_stories[['text', 'source']], human_stories[['text', 'source']]], ignore_index=True)\n",
        "\n",
        "# Clean the text\n",
        "stories_data['text'] = (\n",
        "    stories_data['text'].str.replace(r'http\\S+|www\\S+|https\\S+', '', case=False)  # Remove URLs\n",
        "    .str.replace(r'<.*?>', '', case=False)  # Remove HTML tags\n",
        "    .str.replace(r'\\s+', ' ', regex=True)  # Remove extra whitespaces\n",
        "    .str.lower()  # Convert to lowercase\n",
        ")\n",
        "\n",
        "# Handle NaN values: replace NaN with an empty string\n",
        "stories_data['text'] = stories_data['text'].fillna('')\n",
        "\n",
        "# Prepare features and labels\n",
        "X = stories_data['text']\n",
        "y = stories_data['source']\n",
        "\n",
        "# Tokenization with DistilBERT tokenizer\n",
        "tokenizer = DistilBertTokenizer.from_pretrained('distilbert-base-uncased')\n",
        "train_texts, test_texts, y_train, y_test = train_test_split(X, y, test_size=0.2, random_state=42, stratify=y)\n",
        "\n",
        "train_encodings = tokenizer(list(train_texts), truncation=True, padding=True, max_length=256)  # Reduced sequence length to 256\n",
        "test_encodings = tokenizer(list(test_texts), truncation=True, padding=True, max_length=256)\n",
        "\n",
        "# Define dataset class\n",
        "class StoriesDataset(Dataset):\n",
        "    def __init__(self, encodings, labels):\n",
        "        self.encodings = encodings\n",
        "        self.labels = labels\n",
        "\n",
        "    def __getitem__(self, idx):\n",
        "        item = {key: torch.tensor(val[idx]) for key, val in self.encodings.items()}\n",
        "        item['labels'] = torch.tensor(self.labels[idx])\n",
        "        return item\n",
        "\n",
        "    def __len__(self):\n",
        "        return len(self.labels)\n",
        "\n",
        "# Create datasets\n",
        "train_dataset = StoriesDataset(train_encodings, y_train.values)\n",
        "test_dataset = StoriesDataset(test_encodings, y_test.values)\n",
        "\n",
        "# Load pre-trained DistilBERT model for classification\n",
        "model = DistilBertForSequenceClassification.from_pretrained('distilbert-base-uncased', num_labels=3)\n",
        "\n",
        "# Set up DataLoader with a smaller batch size\n",
        "train_loader = DataLoader(train_dataset, batch_size=4, shuffle=True)  # Reduced batch size to 4\n",
        "test_loader = DataLoader(test_dataset, batch_size=4, shuffle=False)\n",
        "\n",
        "# Move model to device\n",
        "device = torch.device('cuda' if torch.cuda.is_available() else 'cpu')\n",
        "model.to(device)\n",
        "\n",
        "# Mixed precision setup\n",
        "from torch.cuda.amp import GradScaler, autocast\n",
        "\n",
        "scaler = GradScaler()\n",
        "\n",
        "# Optimizer\n",
        "optimizer = torch.optim.AdamW(model.parameters(), lr=1e-5)\n",
        "\n",
        "# Training loop with gradient accumulation and mixed precision\n",
        "accumulation_steps = 4  # Accumulate gradients over 4 steps\n",
        "\n",
        "model.train()\n",
        "for epoch in range(3):  # You can increase the number of epochs for better performance\n",
        "    optimizer.zero_grad()\n",
        "    for i, batch in enumerate(train_loader):\n",
        "        with autocast():\n",
        "            inputs = {key: val.to(device) for key, val in batch.items() if key != 'labels'}\n",
        "            labels = batch['labels'].to(device)\n",
        "            outputs = model(**inputs, labels=labels)\n",
        "            loss = outputs.loss / accumulation_steps  # Normalize the loss by accumulation steps\n",
        "            scaler.scale(loss).backward()\n",
        "\n",
        "        # Perform optimization step every `accumulation_steps` batches\n",
        "        if (i + 1) % accumulation_steps == 0:\n",
        "            scaler.step(optimizer)\n",
        "            scaler.update()\n",
        "            optimizer.zero_grad()\n",
        "\n",
        "# Evaluation\n",
        "model.eval()\n",
        "y_pred = []\n",
        "\n",
        "with torch.no_grad():\n",
        "    for batch in test_loader:\n",
        "        inputs = {key: val.to(device) for key, val in batch.items() if key != 'labels'}\n",
        "        outputs = model(**inputs)\n",
        "        logits = outputs.logits\n",
        "        predictions = torch.argmax(logits, dim=-1)\n",
        "        y_pred.extend(predictions.cpu().numpy())\n",
        "\n",
        "# Calculate metrics\n",
        "accuracy = accuracy_score(y_test, y_pred)\n",
        "precision = precision_score(y_test, y_pred, average='weighted')\n",
        "recall = recall_score(y_test, y_pred, average='weighted')\n",
        "f1 = f1_score(y_test, y_pred, average='weighted')\n",
        "\n",
        "# Print results\n",
        "print(f\"Accuracy: {accuracy:.4f}\")\n",
        "print(f\"Precision: {precision:.4f}\")\n",
        "print(f\"Recall: {recall:.4f}\")\n",
        "print(f\"F1-score: {f1:.4f}\")\n",
        "print(classification_report(y_test, y_pred, target_names=['GPT', 'BARD', 'Human']))\n"
      ],
      "metadata": {
        "colab": {
          "base_uri": "https://localhost:8080/",
          "height": 935,
          "referenced_widgets": [
            "86da3bb0f24c45cdaa61491ce0273775",
            "bf796fcf2bdf42fcaaa3af3e7a47adff",
            "34e154c31e2d43b2b747f23afbdcf039",
            "51a6f8edc43140da963ec68cfc8623ed",
            "a8da51fc158e42859408ac0696fe92d2",
            "9887a7404fc74918a2138ca906a34bbf",
            "f37f0712c7a145759e4433be621b9428",
            "ed8f64011bfa43c994482fb7daa52ed3",
            "c9cf6da4e76746788c8e3deb4faad032",
            "6da8f38d21c34ca0abe17e466c5ebb6a",
            "fdfd86ae381a4527a165de819f35a58d",
            "fee2c57b8be14ca994412e37f8cb3979",
            "bbce3c05112d4f48b7accd10647ee976",
            "6d8484ce294248b99febc65a26c2a01c",
            "cf4647e245774a51af8ba0cb0472725f",
            "f37de06bd2724ae193f212fd6d487eb1",
            "02eb8c56247242be95101d81ab253620",
            "98da9f1ceb2d434ea730945b1d0f5afd",
            "125f92fb5cf540c7958b7a1fd3e9ebee",
            "7c293a0165d14b33b928e85839038a9c",
            "c2b16f8a52704b9db78d62e7133ec9bc",
            "12216e81f93442858b7383339f0b7520",
            "8bab3f5313c645c4b7abe1e441ed627b",
            "9a9fc38cabcd4b94be1ae48af693f7cc",
            "abf9359cea124417b61369cfa0057947",
            "ca71a281e0ce4341a2cb5c6739f010f2",
            "8222b9a51bdb4ec1b9f363cb80d188b0",
            "ac8d9cb418804bbca4a274616addba74",
            "62f47def3e8c458abfc3bff8a883a015",
            "3c0078a440684586b9141e9136119c8c",
            "53413fca94c7432a84c3c6f73051e912",
            "ee4dcb17470d4e739c9422331b4ead44",
            "a3a44d55281748419ab832962167d68d",
            "cc8ba3a486f64f36818aaf9d54ba889b",
            "15c778d53988402cb8f37ba1204f20b2",
            "fea8cefe880c456c970e7a8364e0fb75",
            "b855928457954757b3b0f6c8663b0d66",
            "93120d1d6b2b49e4a32f83685aa97d39",
            "f0ec91199f104adca024ebef9ab2a4d5",
            "db4ce5db91094167831ab56a913f56fc",
            "842b5c2f9caf46fe984dcb24166e5672",
            "1dd77362815342458e4a4e6d601e5ff0",
            "70a7e0c2acd8402c929384b857e69a1b",
            "42c5d51b57bb406ebfe447e373f08912",
            "45076fbda32a4cd5bb488c65d0840f3d",
            "dc60996b81784104b877ea16debce488",
            "fbc08ff43b5046439d439f243180d874",
            "52e88af875ab456bb443f698bad7aa8a",
            "3d4ef442497b45cfad07cc30d18bfbc6",
            "06c2ca9f11064beab79362d149ac5656",
            "03edb3ee7cff4f60abe63a70daa17dc9",
            "4226561369964343988efa581cb04a3e",
            "52d05e45f5a5487aada7c55b5c441983",
            "740d95bbbd504d6ba244c06cf72fffaa",
            "4cdf6886dee94e5dbfd26a3e6ff8be98"
          ]
        },
        "id": "uSPQTBYR2aJA",
        "outputId": "f2f6dd32-5146-43d6-de35-bb6d827faa4c"
      },
      "execution_count": null,
      "outputs": [
        {
          "output_type": "stream",
          "name": "stderr",
          "text": [
            "/usr/local/lib/python3.10/dist-packages/huggingface_hub/utils/_token.py:89: UserWarning: \n",
            "The secret `HF_TOKEN` does not exist in your Colab secrets.\n",
            "To authenticate with the Hugging Face Hub, create a token in your settings tab (https://huggingface.co/settings/tokens), set it as secret in your Google Colab and restart your session.\n",
            "You will be able to reuse this secret in all of your notebooks.\n",
            "Please note that authentication is recommended but still optional to access public models or datasets.\n",
            "  warnings.warn(\n"
          ]
        },
        {
          "output_type": "display_data",
          "data": {
            "text/plain": [
              "tokenizer_config.json:   0%|          | 0.00/48.0 [00:00<?, ?B/s]"
            ],
            "application/vnd.jupyter.widget-view+json": {
              "version_major": 2,
              "version_minor": 0,
              "model_id": "86da3bb0f24c45cdaa61491ce0273775"
            }
          },
          "metadata": {}
        },
        {
          "output_type": "display_data",
          "data": {
            "text/plain": [
              "vocab.txt:   0%|          | 0.00/232k [00:00<?, ?B/s]"
            ],
            "application/vnd.jupyter.widget-view+json": {
              "version_major": 2,
              "version_minor": 0,
              "model_id": "fee2c57b8be14ca994412e37f8cb3979"
            }
          },
          "metadata": {}
        },
        {
          "output_type": "display_data",
          "data": {
            "text/plain": [
              "tokenizer.json:   0%|          | 0.00/466k [00:00<?, ?B/s]"
            ],
            "application/vnd.jupyter.widget-view+json": {
              "version_major": 2,
              "version_minor": 0,
              "model_id": "8bab3f5313c645c4b7abe1e441ed627b"
            }
          },
          "metadata": {}
        },
        {
          "output_type": "display_data",
          "data": {
            "text/plain": [
              "config.json:   0%|          | 0.00/483 [00:00<?, ?B/s]"
            ],
            "application/vnd.jupyter.widget-view+json": {
              "version_major": 2,
              "version_minor": 0,
              "model_id": "cc8ba3a486f64f36818aaf9d54ba889b"
            }
          },
          "metadata": {}
        },
        {
          "output_type": "stream",
          "name": "stderr",
          "text": [
            "/usr/local/lib/python3.10/dist-packages/transformers/tokenization_utils_base.py:1601: FutureWarning: `clean_up_tokenization_spaces` was not set. It will be set to `True` by default. This behavior will be depracted in transformers v4.45, and will be then set to `False` by default. For more details check this issue: https://github.com/huggingface/transformers/issues/31884\n",
            "  warnings.warn(\n"
          ]
        },
        {
          "output_type": "display_data",
          "data": {
            "text/plain": [
              "model.safetensors:   0%|          | 0.00/268M [00:00<?, ?B/s]"
            ],
            "application/vnd.jupyter.widget-view+json": {
              "version_major": 2,
              "version_minor": 0,
              "model_id": "45076fbda32a4cd5bb488c65d0840f3d"
            }
          },
          "metadata": {}
        },
        {
          "output_type": "stream",
          "name": "stderr",
          "text": [
            "Some weights of DistilBertForSequenceClassification were not initialized from the model checkpoint at distilbert-base-uncased and are newly initialized: ['classifier.bias', 'classifier.weight', 'pre_classifier.bias', 'pre_classifier.weight']\n",
            "You should probably TRAIN this model on a down-stream task to be able to use it for predictions and inference.\n",
            "<ipython-input-1-38339e2b4959>:80: FutureWarning: `torch.cuda.amp.GradScaler(args...)` is deprecated. Please use `torch.amp.GradScaler('cuda', args...)` instead.\n",
            "  scaler = GradScaler()\n",
            "/usr/local/lib/python3.10/dist-packages/torch/amp/grad_scaler.py:132: UserWarning: torch.cuda.amp.GradScaler is enabled, but CUDA is not available.  Disabling.\n",
            "  warnings.warn(\n",
            "<ipython-input-1-38339e2b4959>:92: FutureWarning: `torch.cuda.amp.autocast(args...)` is deprecated. Please use `torch.amp.autocast('cuda', args...)` instead.\n",
            "  with autocast():\n",
            "/usr/local/lib/python3.10/dist-packages/torch/amp/autocast_mode.py:265: UserWarning: User provided device_type of 'cuda', but CUDA is not available. Disabling\n",
            "  warnings.warn(\n"
          ]
        },
        {
          "output_type": "stream",
          "name": "stdout",
          "text": [
            "Accuracy: 0.8348\n",
            "Precision: 0.7219\n",
            "Recall: 0.8348\n",
            "F1-score: 0.7679\n",
            "              precision    recall  f1-score   support\n",
            "\n",
            "         GPT       0.00      0.00      0.00        19\n",
            "        BARD       0.98      1.00      0.99        60\n",
            "       Human       0.67      1.00      0.80        36\n",
            "\n",
            "    accuracy                           0.83       115\n",
            "   macro avg       0.55      0.67      0.60       115\n",
            "weighted avg       0.72      0.83      0.77       115\n",
            "\n"
          ]
        },
        {
          "output_type": "stream",
          "name": "stderr",
          "text": [
            "/usr/local/lib/python3.10/dist-packages/sklearn/metrics/_classification.py:1531: UndefinedMetricWarning: Precision is ill-defined and being set to 0.0 in labels with no predicted samples. Use `zero_division` parameter to control this behavior.\n",
            "  _warn_prf(average, modifier, f\"{metric.capitalize()} is\", len(result))\n",
            "/usr/local/lib/python3.10/dist-packages/sklearn/metrics/_classification.py:1531: UndefinedMetricWarning: Precision is ill-defined and being set to 0.0 in labels with no predicted samples. Use `zero_division` parameter to control this behavior.\n",
            "  _warn_prf(average, modifier, f\"{metric.capitalize()} is\", len(result))\n",
            "/usr/local/lib/python3.10/dist-packages/sklearn/metrics/_classification.py:1531: UndefinedMetricWarning: Precision is ill-defined and being set to 0.0 in labels with no predicted samples. Use `zero_division` parameter to control this behavior.\n",
            "  _warn_prf(average, modifier, f\"{metric.capitalize()} is\", len(result))\n",
            "/usr/local/lib/python3.10/dist-packages/sklearn/metrics/_classification.py:1531: UndefinedMetricWarning: Precision is ill-defined and being set to 0.0 in labels with no predicted samples. Use `zero_division` parameter to control this behavior.\n",
            "  _warn_prf(average, modifier, f\"{metric.capitalize()} is\", len(result))\n"
          ]
        }
      ]
    }
  ]
}