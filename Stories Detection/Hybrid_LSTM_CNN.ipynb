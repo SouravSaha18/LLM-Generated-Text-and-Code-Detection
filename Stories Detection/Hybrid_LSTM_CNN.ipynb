{
  "nbformat": 4,
  "nbformat_minor": 0,
  "metadata": {
    "colab": {
      "provenance": []
    },
    "kernelspec": {
      "name": "python3",
      "display_name": "Python 3"
    },
    "language_info": {
      "name": "python"
    }
  },
  "cells": [
    {
      "cell_type": "code",
      "execution_count": null,
      "metadata": {
        "colab": {
          "background_save": true,
          "base_uri": "https://localhost:8080/"
        },
        "id": "wq1SfFVRP3hD",
        "outputId": "1909cf54-0099-401e-f47d-50d775b81e2a"
      },
      "outputs": [
        {
          "name": "stdout",
          "output_type": "stream",
          "text": [
            "Epoch 1/10\n"
          ]
        },
        {
          "name": "stderr",
          "output_type": "stream",
          "text": [
            "/usr/local/lib/python3.10/dist-packages/keras/src/layers/core/embedding.py:90: UserWarning: Argument `input_length` is deprecated. Just remove it.\n",
            "  warnings.warn(\n"
          ]
        },
        {
          "name": "stdout",
          "output_type": "stream",
          "text": [
            "\u001b[1m15/15\u001b[0m \u001b[32m━━━━━━━━━━━━━━━━━━━━\u001b[0m\u001b[37m\u001b[0m \u001b[1m160s\u001b[0m 10s/step - accuracy: 0.4597 - loss: 1.0631 - val_accuracy: 0.5217 - val_loss: 0.8909\n",
            "Epoch 2/10\n",
            "\u001b[1m15/15\u001b[0m \u001b[32m━━━━━━━━━━━━━━━━━━━━\u001b[0m\u001b[37m\u001b[0m \u001b[1m158s\u001b[0m 11s/step - accuracy: 0.5647 - loss: 0.8149 - val_accuracy: 0.8000 - val_loss: 0.5033\n",
            "Epoch 3/10\n",
            "\u001b[1m15/15\u001b[0m \u001b[32m━━━━━━━━━━━━━━━━━━━━\u001b[0m\u001b[37m\u001b[0m \u001b[1m197s\u001b[0m 10s/step - accuracy: 0.8495 - loss: 0.4256 - val_accuracy: 0.8435 - val_loss: 0.4444\n",
            "Epoch 4/10\n",
            "\u001b[1m15/15\u001b[0m \u001b[32m━━━━━━━━━━━━━━━━━━━━\u001b[0m\u001b[37m\u001b[0m \u001b[1m203s\u001b[0m 10s/step - accuracy: 0.8541 - loss: 0.3771 - val_accuracy: 0.8348 - val_loss: 0.3496\n",
            "Epoch 5/10\n",
            "\u001b[1m15/15\u001b[0m \u001b[32m━━━━━━━━━━━━━━━━━━━━\u001b[0m\u001b[37m\u001b[0m \u001b[1m153s\u001b[0m 10s/step - accuracy: 0.8420 - loss: 0.3004 - val_accuracy: 0.8522 - val_loss: 0.3313\n",
            "Epoch 6/10\n",
            "\u001b[1m15/15\u001b[0m \u001b[32m━━━━━━━━━━━━━━━━━━━━\u001b[0m\u001b[37m\u001b[0m \u001b[1m203s\u001b[0m 10s/step - accuracy: 0.9568 - loss: 0.1619 - val_accuracy: 0.8435 - val_loss: 0.3100\n",
            "Epoch 7/10\n",
            "\u001b[1m15/15\u001b[0m \u001b[32m━━━━━━━━━━━━━━━━━━━━\u001b[0m\u001b[37m\u001b[0m \u001b[1m155s\u001b[0m 10s/step - accuracy: 0.9893 - loss: 0.0455 - val_accuracy: 0.8609 - val_loss: 0.3252\n",
            "Epoch 8/10\n",
            "\u001b[1m15/15\u001b[0m \u001b[32m━━━━━━━━━━━━━━━━━━━━\u001b[0m\u001b[37m\u001b[0m \u001b[1m199s\u001b[0m 10s/step - accuracy: 0.9901 - loss: 0.0330 - val_accuracy: 0.8783 - val_loss: 0.3744\n",
            "Epoch 9/10\n",
            "\u001b[1m15/15\u001b[0m \u001b[32m━━━━━━━━━━━━━━━━━━━━\u001b[0m\u001b[37m\u001b[0m \u001b[1m203s\u001b[0m 10s/step - accuracy: 0.9914 - loss: 0.0256 - val_accuracy: 0.9043 - val_loss: 0.3639\n",
            "Epoch 10/10\n",
            "\u001b[1m15/15\u001b[0m \u001b[32m━━━━━━━━━━━━━━━━━━━━\u001b[0m\u001b[37m\u001b[0m \u001b[1m200s\u001b[0m 10s/step - accuracy: 0.9975 - loss: 0.0171 - val_accuracy: 0.8870 - val_loss: 0.3530\n",
            "\u001b[1m4/4\u001b[0m \u001b[32m━━━━━━━━━━━━━━━━━━━━\u001b[0m\u001b[37m\u001b[0m \u001b[1m7s\u001b[0m 2s/step\n",
            "Accuracy: 0.8870\n",
            "Precision: 0.8933\n",
            "Recall: 0.8870\n",
            "F1-score: 0.8890\n",
            "              precision    recall  f1-score   support\n",
            "\n",
            "         GPT       0.64      0.74      0.68        19\n",
            "        BARD       0.98      0.98      0.98        60\n",
            "       Human       0.88      0.81      0.84        36\n",
            "\n",
            "    accuracy                           0.89       115\n",
            "   macro avg       0.83      0.84      0.84       115\n",
            "weighted avg       0.89      0.89      0.89       115\n",
            "\n"
          ]
        }
      ],
      "source": [
        "import pandas as pd\n",
        "import numpy as np\n",
        "from sklearn.model_selection import train_test_split\n",
        "from sklearn.metrics import accuracy_score, precision_score, recall_score, f1_score, classification_report\n",
        "from tensorflow.keras.models import Sequential\n",
        "from tensorflow.keras.layers import Embedding, Conv1D, MaxPooling1D, LSTM, Dense, Dropout\n",
        "from tensorflow.keras.preprocessing.text import Tokenizer\n",
        "from tensorflow.keras.preprocessing.sequence import pad_sequences\n",
        "\n",
        "# Load datasets\n",
        "bird_stories = pd.read_csv('/content/drive/MyDrive/data/BARD/BARD_story.csv')  # columns: index, prompts, BARD\n",
        "gpt_stories = pd.read_csv('/content/drive/MyDrive/data/GPT/ChatGPT_story.csv')  # columns: index, prompts, responses\n",
        "human_stories = pd.read_csv('/content/drive/MyDrive/data/Human/human_stories.csv')  # columns: index, Title, Author, Tags, Chapter_text\n",
        "\n",
        "# Prepare the texts and add source labels\n",
        "bird_stories['text'] = bird_stories['BARD']\n",
        "gpt_stories['text'] = gpt_stories['Chapter_text']\n",
        "human_stories['text'] = human_stories['Chapter_text']\n",
        "\n",
        "# Add source labels\n",
        "bird_stories['source'] = 1  # BARD\n",
        "gpt_stories['source'] = 0    # GPT\n",
        "human_stories['source'] = 2   # Human\n",
        "\n",
        "# Combine datasets\n",
        "stories_data = pd.concat([bird_stories[['text', 'source']], gpt_stories[['text', 'source']], human_stories[['text', 'source']]], ignore_index=True)\n",
        "\n",
        "# Clean the text\n",
        "stories_data['text'] = (\n",
        "    stories_data['text'].str.replace(r'http\\S+|www\\S+|https\\S+', '', case=False)  # Remove URLs\n",
        "    .str.replace(r'<.*?>', '', case=False)  # Remove HTML tags\n",
        "    .str.replace(r'\\s+', ' ', regex=True)  # Remove extra whitespaces\n",
        "    .str.lower()  # Convert to lowercase\n",
        ")\n",
        "\n",
        "# Handle NaN values: replace NaN with an empty string\n",
        "stories_data['text'] = stories_data['text'].fillna('')\n",
        "\n",
        "# Prepare features and labels\n",
        "X = stories_data['text']\n",
        "y = stories_data['source']\n",
        "\n",
        "# Tokenization\n",
        "tokenizer = Tokenizer()\n",
        "tokenizer.fit_on_texts(X)\n",
        "X_sequences = tokenizer.texts_to_sequences(X)\n",
        "\n",
        "# Calculate max sequence length and vocabulary size\n",
        "max_length = max(len(seq) for seq in X_sequences)\n",
        "vocab_size = len(tokenizer.word_index) + 1  # +1 for padding\n",
        "\n",
        "# Pad sequences\n",
        "X_padded = pad_sequences(X_sequences, maxlen=max_length)\n",
        "\n",
        "# Split data into train and test sets\n",
        "X_train, X_test, y_train, y_test = train_test_split(X_padded, y, test_size=0.2, random_state=42, stratify=y)\n",
        "\n",
        "# Hybrid CNN-LSTM model architecture\n",
        "model = Sequential()\n",
        "model.add(Embedding(input_dim=vocab_size, output_dim=128, input_length=max_length))\n",
        "model.add(Conv1D(filters=128, kernel_size=5, activation='relu'))  # CNN layer\n",
        "model.add(MaxPooling1D(pool_size=2))  # Max pooling layer\n",
        "model.add(LSTM(64, return_sequences=False))  # LSTM layer for sequential data\n",
        "model.add(Dropout(0.5))  # Dropout for regularization\n",
        "model.add(Dense(64, activation='relu'))  # Fully connected layer\n",
        "model.add(Dense(3, activation='softmax'))  # 3 classes for multiclass classification\n",
        "\n",
        "# Compile the model\n",
        "model.compile(optimizer='adam', loss='sparse_categorical_crossentropy', metrics=['accuracy'])\n",
        "\n",
        "# Train the model\n",
        "model.fit(X_train, y_train, validation_data=(X_test, y_test), epochs=10, batch_size=32)\n",
        "\n",
        "# Evaluate the model\n",
        "y_pred = np.argmax(model.predict(X_test), axis=-1)\n",
        "\n",
        "# Calculate metrics\n",
        "accuracy = accuracy_score(y_test, y_pred)\n",
        "precision = precision_score(y_test, y_pred, average='weighted')\n",
        "recall = recall_score(y_test, y_pred, average='weighted')\n",
        "f1 = f1_score(y_test, y_pred, average='weighted')\n",
        "\n",
        "# Print results\n",
        "print(f\"Accuracy: {accuracy:.4f}\")\n",
        "print(f\"Precision: {precision:.4f}\")\n",
        "print(f\"Recall: {recall:.4f}\")\n",
        "print(f\"F1-score: {f1:.4f}\")\n",
        "print(classification_report(y_test, y_pred, target_names=['GPT', 'BARD', 'Human']))"
      ]
    }
  ]
}