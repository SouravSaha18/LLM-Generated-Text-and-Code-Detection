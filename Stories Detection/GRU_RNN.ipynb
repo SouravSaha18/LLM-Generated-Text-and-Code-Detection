{
  "nbformat": 4,
  "nbformat_minor": 0,
  "metadata": {
    "colab": {
      "provenance": []
    },
    "kernelspec": {
      "name": "python3",
      "display_name": "Python 3"
    },
    "language_info": {
      "name": "python"
    }
  },
  "cells": [
    {
      "cell_type": "code",
      "execution_count": null,
      "metadata": {
        "colab": {
          "base_uri": "https://localhost:8080/"
        },
        "id": "ksswpfEBDQAq",
        "outputId": "6db94e25-822c-43a0-a646-fbf1ffce1dfd"
      },
      "outputs": [
        {
          "name": "stdout",
          "output_type": "stream",
          "text": [
            "Epoch 1/10\n"
          ]
        },
        {
          "name": "stderr",
          "output_type": "stream",
          "text": [
            "/usr/local/lib/python3.10/dist-packages/keras/src/layers/core/embedding.py:90: UserWarning: Argument `input_length` is deprecated. Just remove it.\n",
            "  warnings.warn(\n"
          ]
        },
        {
          "name": "stdout",
          "output_type": "stream",
          "text": [
            "\u001b[1m15/15\u001b[0m \u001b[32m━━━━━━━━━━━━━━━━━━━━\u001b[0m\u001b[37m\u001b[0m \u001b[1m306s\u001b[0m 19s/step - accuracy: 0.4535 - loss: 1.0774 - val_accuracy: 0.5217 - val_loss: 0.9821\n",
            "Epoch 2/10\n",
            "\u001b[1m15/15\u001b[0m \u001b[32m━━━━━━━━━━━━━━━━━━━━\u001b[0m\u001b[37m\u001b[0m \u001b[1m312s\u001b[0m 18s/step - accuracy: 0.5310 - loss: 0.9211 - val_accuracy: 0.5391 - val_loss: 0.7800\n",
            "Epoch 3/10\n",
            "\u001b[1m15/15\u001b[0m \u001b[32m━━━━━━━━━━━━━━━━━━━━\u001b[0m\u001b[37m\u001b[0m \u001b[1m330s\u001b[0m 19s/step - accuracy: 0.6731 - loss: 0.6390 - val_accuracy: 0.8087 - val_loss: 0.4653\n",
            "Epoch 4/10\n",
            "\u001b[1m15/15\u001b[0m \u001b[32m━━━━━━━━━━━━━━━━━━━━\u001b[0m\u001b[37m\u001b[0m \u001b[1m284s\u001b[0m 19s/step - accuracy: 0.8144 - loss: 0.3895 - val_accuracy: 0.8261 - val_loss: 0.3438\n",
            "Epoch 5/10\n",
            "\u001b[1m15/15\u001b[0m \u001b[32m━━━━━━━━━━━━━━━━━━━━\u001b[0m\u001b[37m\u001b[0m \u001b[1m327s\u001b[0m 19s/step - accuracy: 0.8341 - loss: 0.3855 - val_accuracy: 0.8348 - val_loss: 0.3681\n",
            "Epoch 6/10\n",
            "\u001b[1m15/15\u001b[0m \u001b[32m━━━━━━━━━━━━━━━━━━━━\u001b[0m\u001b[37m\u001b[0m \u001b[1m317s\u001b[0m 19s/step - accuracy: 0.8384 - loss: 0.2904 - val_accuracy: 0.8348 - val_loss: 0.3775\n",
            "Epoch 7/10\n",
            "\u001b[1m15/15\u001b[0m \u001b[32m━━━━━━━━━━━━━━━━━━━━\u001b[0m\u001b[37m\u001b[0m \u001b[1m296s\u001b[0m 20s/step - accuracy: 0.8363 - loss: 0.2719 - val_accuracy: 0.8348 - val_loss: 0.3725\n",
            "Epoch 8/10\n",
            "\u001b[1m15/15\u001b[0m \u001b[32m━━━━━━━━━━━━━━━━━━━━\u001b[0m\u001b[37m\u001b[0m \u001b[1m314s\u001b[0m 19s/step - accuracy: 0.8778 - loss: 0.2367 - val_accuracy: 0.8609 - val_loss: 0.3605\n",
            "Epoch 9/10\n",
            "\u001b[1m15/15\u001b[0m \u001b[32m━━━━━━━━━━━━━━━━━━━━\u001b[0m\u001b[37m\u001b[0m \u001b[1m311s\u001b[0m 19s/step - accuracy: 0.9227 - loss: 0.1828 - val_accuracy: 0.8522 - val_loss: 0.3639\n",
            "Epoch 10/10\n",
            "\u001b[1m15/15\u001b[0m \u001b[32m━━━━━━━━━━━━━━━━━━━━\u001b[0m\u001b[37m\u001b[0m \u001b[1m330s\u001b[0m 19s/step - accuracy: 0.9775 - loss: 0.1142 - val_accuracy: 0.8435 - val_loss: 0.3964\n"
          ]
        },
        {
          "name": "stderr",
          "output_type": "stream",
          "text": [
            "WARNING:tensorflow:5 out of the last 9 calls to <function TensorFlowTrainer.make_predict_function.<locals>.one_step_on_data_distributed at 0x7ea5274f2290> triggered tf.function retracing. Tracing is expensive and the excessive number of tracings could be due to (1) creating @tf.function repeatedly in a loop, (2) passing tensors with different shapes, (3) passing Python objects instead of tensors. For (1), please define your @tf.function outside of the loop. For (2), @tf.function has reduce_retracing=True option that can avoid unnecessary retracing. For (3), please refer to https://www.tensorflow.org/guide/function#controlling_retracing and https://www.tensorflow.org/api_docs/python/tf/function for  more details.\n"
          ]
        },
        {
          "name": "stdout",
          "output_type": "stream",
          "text": [
            "\u001b[1m3/4\u001b[0m \u001b[32m━━━━━━━━━━━━━━━\u001b[0m\u001b[37m━━━━━\u001b[0m \u001b[1m1s\u001b[0m 1s/step"
          ]
        },
        {
          "name": "stderr",
          "output_type": "stream",
          "text": [
            "WARNING:tensorflow:6 out of the last 12 calls to <function TensorFlowTrainer.make_predict_function.<locals>.one_step_on_data_distributed at 0x7ea5274f2290> triggered tf.function retracing. Tracing is expensive and the excessive number of tracings could be due to (1) creating @tf.function repeatedly in a loop, (2) passing tensors with different shapes, (3) passing Python objects instead of tensors. For (1), please define your @tf.function outside of the loop. For (2), @tf.function has reduce_retracing=True option that can avoid unnecessary retracing. For (3), please refer to https://www.tensorflow.org/guide/function#controlling_retracing and https://www.tensorflow.org/api_docs/python/tf/function for  more details.\n"
          ]
        },
        {
          "name": "stdout",
          "output_type": "stream",
          "text": [
            "\u001b[1m4/4\u001b[0m \u001b[32m━━━━━━━━━━━━━━━━━━━━\u001b[0m\u001b[37m\u001b[0m \u001b[1m5s\u001b[0m 1s/step\n",
            "Accuracy: 0.8435\n",
            "Precision: 0.8557\n",
            "Recall: 0.8435\n",
            "F1-score: 0.8142\n",
            "              precision    recall  f1-score   support\n",
            "\n",
            "         GPT       0.80      0.21      0.33        19\n",
            "        BARD       0.97      0.97      0.97        60\n",
            "       Human       0.70      0.97      0.81        36\n",
            "\n",
            "    accuracy                           0.84       115\n",
            "   macro avg       0.82      0.72      0.70       115\n",
            "weighted avg       0.86      0.84      0.81       115\n",
            "\n"
          ]
        }
      ],
      "source": [
        "import pandas as pd\n",
        "import numpy as np\n",
        "from sklearn.model_selection import train_test_split\n",
        "from sklearn.metrics import accuracy_score, precision_score, recall_score, f1_score, classification_report\n",
        "from tensorflow.keras.models import Sequential\n",
        "from tensorflow.keras.layers import Embedding, GRU, Dense, Dropout\n",
        "from tensorflow.keras.preprocessing.text import Tokenizer\n",
        "from tensorflow.keras.preprocessing.sequence import pad_sequences\n",
        "\n",
        "# Load datasets\n",
        "bird_stories = pd.read_csv('/content/drive/MyDrive/data/BARD/BARD_story.csv')  # columns: index, prompts, BARD\n",
        "gpt_stories = pd.read_csv('/content/drive/MyDrive/data/GPT/ChatGPT_story.csv')  # columns: index, prompts, responses\n",
        "human_stories = pd.read_csv('/content/drive/MyDrive/data/Human/human_stories.csv')  # columns: index, Title, Author, Tags, Chapter_text\n",
        "\n",
        "# Prepare the texts and add source labels\n",
        "bird_stories['text'] = bird_stories['BARD']\n",
        "gpt_stories['text'] = gpt_stories['Chapter_text']\n",
        "human_stories['text'] = human_stories['Chapter_text']\n",
        "\n",
        "# Add source labels\n",
        "bird_stories['source'] = 1  # BARD\n",
        "gpt_stories['source'] = 0    # GPT\n",
        "human_stories['source'] = 2   # Human\n",
        "\n",
        "# Combine datasets\n",
        "stories_data = pd.concat([bird_stories[['text', 'source']], gpt_stories[['text', 'source']], human_stories[['text', 'source']]], ignore_index=True)\n",
        "\n",
        "# Clean the text\n",
        "stories_data['text'] = (\n",
        "    stories_data['text'].str.replace(r'http\\S+|www\\S+|https\\S+', '', case=False)  # Remove URLs\n",
        "    .str.replace(r'<.*?>', '', case=False)  # Remove HTML tags\n",
        "    .str.replace(r'\\s+', ' ', regex=True)  # Remove extra whitespaces\n",
        "    .str.lower()  # Convert to lowercase\n",
        ")\n",
        "\n",
        "# Handle NaN values: replace NaN with an empty string\n",
        "stories_data['text'] = stories_data['text'].fillna('')\n",
        "\n",
        "# Prepare features and labels\n",
        "X = stories_data['text']\n",
        "y = stories_data['source']\n",
        "\n",
        "# Tokenization\n",
        "tokenizer = Tokenizer()\n",
        "tokenizer.fit_on_texts(X)\n",
        "X_sequences = tokenizer.texts_to_sequences(X)\n",
        "\n",
        "# Calculate max sequence length and vocabulary size\n",
        "max_length = max(len(seq) for seq in X_sequences)\n",
        "vocab_size = len(tokenizer.word_index) + 1  # +1 for padding\n",
        "\n",
        "# Pad sequences\n",
        "X_padded = pad_sequences(X_sequences, maxlen=max_length)\n",
        "\n",
        "# Split data into train and test sets\n",
        "X_train, X_test, y_train, y_test = train_test_split(X_padded, y, test_size=0.2, random_state=42, stratify=y)\n",
        "\n",
        "# GRU model architecture\n",
        "model = Sequential()\n",
        "model.add(Embedding(input_dim=vocab_size, output_dim=128, input_length=max_length))\n",
        "model.add(GRU(64, return_sequences=False))  # GRU layer for sequential data\n",
        "model.add(Dropout(0.5))  # Dropout for regularization\n",
        "model.add(Dense(64, activation='relu'))  # Fully connected layer\n",
        "model.add(Dense(3, activation='softmax'))  # 3 classes for multiclass classification\n",
        "\n",
        "# Compile the model\n",
        "model.compile(optimizer='adam', loss='sparse_categorical_crossentropy', metrics=['accuracy'])\n",
        "\n",
        "# Train the model\n",
        "model.fit(X_train, y_train, validation_data=(X_test, y_test), epochs=10, batch_size=32)\n",
        "\n",
        "# Evaluate the model\n",
        "y_pred = np.argmax(model.predict(X_test), axis=-1)\n",
        "\n",
        "# Calculate metrics\n",
        "accuracy = accuracy_score(y_test, y_pred)\n",
        "precision = precision_score(y_test, y_pred, average='weighted')\n",
        "recall = recall_score(y_test, y_pred, average='weighted')\n",
        "f1 = f1_score(y_test, y_pred, average='weighted')\n",
        "\n",
        "# Print results\n",
        "print(f\"Accuracy: {accuracy:.4f}\")\n",
        "print(f\"Precision: {precision:.4f}\")\n",
        "print(f\"Recall: {recall:.4f}\")\n",
        "print(f\"F1-score: {f1:.4f}\")\n",
        "print(classification_report(y_test, y_pred, target_names=['GPT', 'BARD', 'Human']))"
      ]
    }
  ]
}