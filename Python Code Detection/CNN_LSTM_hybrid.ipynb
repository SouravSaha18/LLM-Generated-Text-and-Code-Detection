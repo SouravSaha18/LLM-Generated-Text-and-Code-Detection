{
  "nbformat": 4,
  "nbformat_minor": 0,
  "metadata": {
    "colab": {
      "provenance": []
    },
    "kernelspec": {
      "name": "python3",
      "display_name": "Python 3"
    },
    "language_info": {
      "name": "python"
    }
  },
  "cells": [
    {
      "cell_type": "code",
      "source": [
        "import pandas as pd\n",
        "import numpy as np\n",
        "from sklearn.model_selection import train_test_split\n",
        "from sklearn.metrics import accuracy_score, precision_score, recall_score, f1_score, classification_report\n",
        "from tensorflow.keras.models import Sequential\n",
        "from tensorflow.keras.layers import Embedding, Conv1D, MaxPooling1D, LSTM, Dense, Dropout, Flatten\n",
        "from tensorflow.keras.preprocessing.text import Tokenizer\n",
        "from tensorflow.keras.preprocessing.sequence import pad_sequences\n",
        "\n",
        "# Load code datasets\n",
        "bird_code = pd.read_csv('/content/drive/MyDrive/data/BARD/BARD_pycode.csv')  # columns: index, prompts, BARD\n",
        "gpt_code = pd.read_csv('/content/drive/MyDrive/data/GPT/ChatGPT_pycode.csv')    # columns: prompts, responses\n",
        "human_code = pd.read_csv('/content/drive/MyDrive/data/Human/human_code.csv') # columns: Task, Code\n",
        "\n",
        "# Prepare the texts and add source labels\n",
        "bird_code['text'] = bird_code['BARD']\n",
        "gpt_code['text'] = gpt_code['responses']\n",
        "human_code['text'] = human_code['Code']\n",
        "\n",
        "# Add source labels\n",
        "bird_code['source'] = 1  # BARD\n",
        "gpt_code['source'] = 0    # GPT\n",
        "human_code['source'] = 2   # Human\n",
        "\n",
        "# Combine datasets\n",
        "code_data = pd.concat([bird_code[['text', 'source']], gpt_code[['text', 'source']], human_code[['text', 'source']]], ignore_index=True)\n",
        "\n",
        "# Remove NaN values from the 'text' column\n",
        "code_data = code_data.dropna(subset=['text'])\n",
        "\n",
        "# Clean the text (example cleaning steps)\n",
        "code_data['text'] = (\n",
        "    code_data['text'].str.replace(r'http\\S+|www\\S+|https\\S+', '', case=False)  # Remove URLs\n",
        "    .str.replace(r'<.*?>', '', case=False)  # Remove HTML tags\n",
        "    .str.replace(r'\\s+', ' ', regex=True)  # Remove extra whitespaces\n",
        "    .str.lower()  # Convert to lowercase\n",
        ")\n",
        "\n",
        "# Prepare features and labels\n",
        "X = code_data['text']\n",
        "y = code_data['source']\n",
        "\n",
        "# Tokenization\n",
        "tokenizer = Tokenizer()\n",
        "tokenizer.fit_on_texts(X)\n",
        "X_sequences = tokenizer.texts_to_sequences(X)\n",
        "\n",
        "# Calculate max sequence length and vocabulary size\n",
        "max_length = max(len(seq) for seq in X_sequences)\n",
        "vocab_size = len(tokenizer.word_index) + 1  # +1 for padding\n",
        "\n",
        "# Pad sequences\n",
        "X_padded = pad_sequences(X_sequences, maxlen=max_length)\n",
        "\n",
        "# Split data into train and test sets\n",
        "X_train, X_test, y_train, y_test = train_test_split(X_padded, y, test_size=0.2, random_state=42, stratify=y)\n",
        "\n",
        "# CNN-LSTM hybrid model architecture\n",
        "model = Sequential()\n",
        "model.add(Embedding(input_dim=vocab_size, output_dim=128, input_length=max_length))\n",
        "model.add(Conv1D(filters=64, kernel_size=5, activation='relu'))  # Convolutional layer\n",
        "model.add(MaxPooling1D(pool_size=2))  # Max pooling layer\n",
        "model.add(LSTM(64, return_sequences=False))  # LSTM layer\n",
        "model.add(Dropout(0.5))  # Dropout for regularization\n",
        "model.add(Dense(64, activation='relu'))  # Fully connected layer\n",
        "model.add(Dense(3, activation='softmax'))  # 3 classes for multiclass classification\n",
        "\n",
        "# Compile the model\n",
        "model.compile(optimizer='adam', loss='sparse_categorical_crossentropy', metrics=['accuracy'])\n",
        "\n",
        "# Train the model\n",
        "model.fit(X_train, y_train, validation_data=(X_test, y_test), epochs=10, batch_size=32)\n",
        "\n",
        "# Evaluate the model\n",
        "y_pred = np.argmax(model.predict(X_test), axis=-1)\n",
        "\n",
        "# Calculate metrics\n",
        "accuracy = accuracy_score(y_test, y_pred)\n",
        "precision = precision_score(y_test, y_pred, average='weighted')\n",
        "recall = recall_score(y_test, y_pred, average='weighted')\n",
        "f1 = f1_score(y_test, y_pred, average='weighted')\n",
        "\n",
        "# Print results\n",
        "print(f\"Accuracy: {accuracy:.4f}\")\n",
        "print(f\"Precision: {precision:.4f}\")\n",
        "print(f\"Recall: {recall:.4f}\")\n",
        "print(f\"F1-score: {f1:.4f}\")\n",
        "print(classification_report(y_test, y_pred, target_names=['GPT', 'BARD', 'Human']))\n"
      ],
      "metadata": {
        "colab": {
          "base_uri": "https://localhost:8080/"
        },
        "id": "z2N50WtRHC2i",
        "outputId": "89d2d17f-dec8-412b-dbbc-7236a9cdaa7c"
      },
      "execution_count": null,
      "outputs": [
        {
          "output_type": "stream",
          "name": "stdout",
          "text": [
            "Epoch 1/10\n"
          ]
        },
        {
          "output_type": "stream",
          "name": "stderr",
          "text": [
            "/usr/local/lib/python3.10/dist-packages/keras/src/layers/core/embedding.py:90: UserWarning: Argument `input_length` is deprecated. Just remove it.\n",
            "  warnings.warn(\n"
          ]
        },
        {
          "output_type": "stream",
          "name": "stdout",
          "text": [
            "\u001b[1m121/121\u001b[0m \u001b[32m━━━━━━━━━━━━━━━━━━━━\u001b[0m\u001b[37m\u001b[0m \u001b[1m143s\u001b[0m 1s/step - accuracy: 0.8889 - loss: 0.4545 - val_accuracy: 0.9563 - val_loss: 0.0908\n",
            "Epoch 2/10\n",
            "\u001b[1m121/121\u001b[0m \u001b[32m━━━━━━━━━━━━━━━━━━━━\u001b[0m\u001b[37m\u001b[0m \u001b[1m141s\u001b[0m 1s/step - accuracy: 0.9762 - loss: 0.0674 - val_accuracy: 0.9896 - val_loss: 0.0474\n",
            "Epoch 3/10\n",
            "\u001b[1m121/121\u001b[0m \u001b[32m━━━━━━━━━━━━━━━━━━━━\u001b[0m\u001b[37m\u001b[0m \u001b[1m140s\u001b[0m 1s/step - accuracy: 0.9943 - loss: 0.0261 - val_accuracy: 0.9896 - val_loss: 0.0459\n",
            "Epoch 4/10\n",
            "\u001b[1m121/121\u001b[0m \u001b[32m━━━━━━━━━━━━━━━━━━━━\u001b[0m\u001b[37m\u001b[0m \u001b[1m144s\u001b[0m 1s/step - accuracy: 0.9981 - loss: 0.0095 - val_accuracy: 0.9865 - val_loss: 0.0620\n",
            "Epoch 5/10\n",
            "\u001b[1m121/121\u001b[0m \u001b[32m━━━━━━━━━━━━━━━━━━━━\u001b[0m\u001b[37m\u001b[0m \u001b[1m203s\u001b[0m 1s/step - accuracy: 0.9971 - loss: 0.0084 - val_accuracy: 0.9886 - val_loss: 0.0540\n",
            "Epoch 6/10\n",
            "\u001b[1m121/121\u001b[0m \u001b[32m━━━━━━━━━━━━━━━━━━━━\u001b[0m\u001b[37m\u001b[0m \u001b[1m201s\u001b[0m 1s/step - accuracy: 0.9992 - loss: 0.0058 - val_accuracy: 0.9886 - val_loss: 0.0428\n",
            "Epoch 7/10\n",
            "\u001b[1m121/121\u001b[0m \u001b[32m━━━━━━━━━━━━━━━━━━━━\u001b[0m\u001b[37m\u001b[0m \u001b[1m139s\u001b[0m 1s/step - accuracy: 0.9992 - loss: 0.0036 - val_accuracy: 0.9865 - val_loss: 0.0647\n",
            "Epoch 8/10\n",
            "\u001b[1m121/121\u001b[0m \u001b[32m━━━━━━━━━━━━━━━━━━━━\u001b[0m\u001b[37m\u001b[0m \u001b[1m144s\u001b[0m 1s/step - accuracy: 0.9989 - loss: 0.0053 - val_accuracy: 0.9886 - val_loss: 0.0551\n",
            "Epoch 9/10\n",
            "\u001b[1m121/121\u001b[0m \u001b[32m━━━━━━━━━━━━━━━━━━━━\u001b[0m\u001b[37m\u001b[0m \u001b[1m139s\u001b[0m 1s/step - accuracy: 0.9987 - loss: 0.0029 - val_accuracy: 0.9896 - val_loss: 0.0552\n",
            "Epoch 10/10\n",
            "\u001b[1m121/121\u001b[0m \u001b[32m━━━━━━━━━━━━━━━━━━━━\u001b[0m\u001b[37m\u001b[0m \u001b[1m144s\u001b[0m 1s/step - accuracy: 0.9998 - loss: 0.0015 - val_accuracy: 0.9886 - val_loss: 0.0696\n",
            "\u001b[1m31/31\u001b[0m \u001b[32m━━━━━━━━━━━━━━━━━━━━\u001b[0m\u001b[37m\u001b[0m \u001b[1m8s\u001b[0m 268ms/step\n",
            "Accuracy: 0.9886\n",
            "Precision: 0.9886\n",
            "Recall: 0.9886\n",
            "F1-score: 0.9882\n",
            "              precision    recall  f1-score   support\n",
            "\n",
            "         GPT       1.00      0.84      0.91        50\n",
            "        BARD       0.98      0.96      0.97        49\n",
            "       Human       0.99      1.00      0.99       862\n",
            "\n",
            "    accuracy                           0.99       961\n",
            "   macro avg       0.99      0.93      0.96       961\n",
            "weighted avg       0.99      0.99      0.99       961\n",
            "\n"
          ]
        }
      ]
    }
  ]
}