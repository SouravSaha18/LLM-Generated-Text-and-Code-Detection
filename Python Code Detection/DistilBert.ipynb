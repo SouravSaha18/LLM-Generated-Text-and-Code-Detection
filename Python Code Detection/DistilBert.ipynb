{
  "nbformat": 4,
  "nbformat_minor": 0,
  "metadata": {
    "colab": {
      "provenance": []
    },
    "kernelspec": {
      "name": "python3",
      "display_name": "Python 3"
    },
    "language_info": {
      "name": "python"
    }
  },
  "cells": [
    {
      "cell_type": "code",
      "execution_count": null,
      "metadata": {
        "colab": {
          "background_save": true,
          "base_uri": "https://localhost:8080/",
          "height": 529,
          "referenced_widgets": [
            "d22a591f11724382b548aaf024a2d422",
            "c827b0025816455db51728743675caed",
            "d992df3307d44920a8e86dbed5de6ec1",
            "555b7d97b75e4b898c9fb734cb5adf17",
            "a8f55db8aa334d09b2ae0d559d2f1d3a",
            "c9e67587618c4965a159b21de22e8c80",
            "758456aaa9dc4f519a3b380b6482f41c",
            "6428f1c366d04b60a038c0101ecd078a",
            "cade399fb950454ab4a9d7aed2df70dc",
            "ed24164d89a0454caac0cf9902e8aadd",
            "932385e859034491883a5d394ed087bd",
            "68ea78e67939457c8bd04cbf222e656c",
            "b8c549fb947445b5b8f86060347cc98c",
            "a34dba7e9c8642d38b7260928e39583b",
            "2e31abd6fa87452a8170cf27e30055d5",
            "7f6439adabb34cb78af310a1428d1abe",
            "b6cf8502ca084c338ed70b10ec4e5b0b",
            "303cc6c0187c4b8b9f21f64247129efe",
            "927806e32f0b4942adca7e58394d8802",
            "67750027ddd94b2a88e3d7e473c2d524",
            "dc7640360a664967b2d579ce4fcf40b5",
            "4faeb298c36b4a0d84bc2bc596d5bca1",
            "3d0384c1a6f74714a7fca91bdf1f5df9",
            "d4ff9ca963b94190872c39844719ca6a",
            "6414e3270c0e4d8b8e54e060d2cf3566",
            "b4d5209772f94caba24ea908c120566d",
            "b59920b216e747f083ad76aee7b886ab",
            "888abb883e9f4a2a95b1af4b16ac3967",
            "b15b596324874dff8622e1238e725205",
            "2821d3b9db8c421e9ff7f62eed6985e2",
            "3275ba433d5345d985bd1095996191a0",
            "c347cb8583904ed6b2659f115179a72c",
            "17c4508e050a495e889cefa0474fb250",
            "c72c6b09f5304c0fbe6a37e31b77b0b0",
            "048d4e09739946e797e86e80fbc96aa1",
            "9f6c2a91b6774db3943919c978fb720c",
            "0bc38062a6b04d77a65abe73acf3c9d1",
            "476f6188c17242b1b35bb46cb71db233",
            "136e98fb765949828db841aed76ab4e9",
            "062d94f58c4844cc9f14aa7a351cabd5",
            "2799637c89c8445ebaa05ea0478c36b8",
            "45c6346610964e74b0026ae734385452",
            "0f7ace32631c4f9a9d74802402fe9c3a",
            "f4103e0bb8d8496182ffd3dc4e5c6a51",
            "299b4758492b4e5f957bac29a62566fd",
            "a60d91700de44460b5bdc4c2dae92c5a",
            "58d9fc1e6cf44da2a4c14282355f16a5",
            "b98751c8db8145009bab7efd876381d5",
            "f849e5411bc946099ce36a80852cc873",
            "e78846686ae4479faaeec2eaf882980a",
            "83ddbfd1e6b14409834a333ff9aa3f3c",
            "d9bab34594034bf6876ab5f5b4c28498",
            "37e502a5af1245a0b02663d41c285afb",
            "0f35451ea3814866a49c8a350d1c51dc",
            "0975e612dd234c0ba852da3c2502a864"
          ]
        },
        "id": "fjQ5UVjAbz5P",
        "outputId": "73487fce-4ce1-463e-daf0-66ba78cccfe3"
      },
      "outputs": [
        {
          "name": "stderr",
          "output_type": "stream",
          "text": [
            "/usr/local/lib/python3.10/dist-packages/huggingface_hub/utils/_token.py:89: UserWarning: \n",
            "The secret `HF_TOKEN` does not exist in your Colab secrets.\n",
            "To authenticate with the Hugging Face Hub, create a token in your settings tab (https://huggingface.co/settings/tokens), set it as secret in your Google Colab and restart your session.\n",
            "You will be able to reuse this secret in all of your notebooks.\n",
            "Please note that authentication is recommended but still optional to access public models or datasets.\n",
            "  warnings.warn(\n"
          ]
        },
        {
          "data": {
            "application/vnd.jupyter.widget-view+json": {
              "model_id": "d22a591f11724382b548aaf024a2d422",
              "version_major": 2,
              "version_minor": 0
            },
            "text/plain": [
              "tokenizer_config.json:   0%|          | 0.00/48.0 [00:00<?, ?B/s]"
            ]
          },
          "metadata": {},
          "output_type": "display_data"
        },
        {
          "data": {
            "application/vnd.jupyter.widget-view+json": {
              "model_id": "68ea78e67939457c8bd04cbf222e656c",
              "version_major": 2,
              "version_minor": 0
            },
            "text/plain": [
              "vocab.txt:   0%|          | 0.00/232k [00:00<?, ?B/s]"
            ]
          },
          "metadata": {},
          "output_type": "display_data"
        },
        {
          "data": {
            "application/vnd.jupyter.widget-view+json": {
              "model_id": "3d0384c1a6f74714a7fca91bdf1f5df9",
              "version_major": 2,
              "version_minor": 0
            },
            "text/plain": [
              "tokenizer.json:   0%|          | 0.00/466k [00:00<?, ?B/s]"
            ]
          },
          "metadata": {},
          "output_type": "display_data"
        },
        {
          "data": {
            "application/vnd.jupyter.widget-view+json": {
              "model_id": "c72c6b09f5304c0fbe6a37e31b77b0b0",
              "version_major": 2,
              "version_minor": 0
            },
            "text/plain": [
              "config.json:   0%|          | 0.00/483 [00:00<?, ?B/s]"
            ]
          },
          "metadata": {},
          "output_type": "display_data"
        },
        {
          "name": "stderr",
          "output_type": "stream",
          "text": [
            "/usr/local/lib/python3.10/dist-packages/transformers/tokenization_utils_base.py:1601: FutureWarning: `clean_up_tokenization_spaces` was not set. It will be set to `True` by default. This behavior will be depracted in transformers v4.45, and will be then set to `False` by default. For more details check this issue: https://github.com/huggingface/transformers/issues/31884\n",
            "  warnings.warn(\n"
          ]
        },
        {
          "data": {
            "application/vnd.jupyter.widget-view+json": {
              "model_id": "299b4758492b4e5f957bac29a62566fd",
              "version_major": 2,
              "version_minor": 0
            },
            "text/plain": [
              "model.safetensors:   0%|          | 0.00/268M [00:00<?, ?B/s]"
            ]
          },
          "metadata": {},
          "output_type": "display_data"
        },
        {
          "name": "stderr",
          "output_type": "stream",
          "text": [
            "Some weights of DistilBertForSequenceClassification were not initialized from the model checkpoint at distilbert-base-uncased and are newly initialized: ['classifier.bias', 'classifier.weight', 'pre_classifier.bias', 'pre_classifier.weight']\n",
            "You should probably TRAIN this model on a down-stream task to be able to use it for predictions and inference.\n",
            "<ipython-input-2-3b950cc1828b>:82: FutureWarning: `torch.cuda.amp.GradScaler(args...)` is deprecated. Please use `torch.amp.GradScaler('cuda', args...)` instead.\n",
            "  scaler = GradScaler()\n",
            "/usr/local/lib/python3.10/dist-packages/torch/amp/grad_scaler.py:132: UserWarning: torch.cuda.amp.GradScaler is enabled, but CUDA is not available.  Disabling.\n",
            "  warnings.warn(\n",
            "<ipython-input-2-3b950cc1828b>:94: FutureWarning: `torch.cuda.amp.autocast(args...)` is deprecated. Please use `torch.amp.autocast('cuda', args...)` instead.\n",
            "  with autocast():\n",
            "/usr/local/lib/python3.10/dist-packages/torch/amp/autocast_mode.py:266: UserWarning: User provided device_type of 'cuda', but CUDA is not available. Disabling\n",
            "  warnings.warn(\n"
          ]
        },
        {
          "name": "stdout",
          "output_type": "stream",
          "text": [
            "Accuracy: 0.9767\n",
            "Precision: 0.9770\n",
            "Recall: 0.9767\n",
            "F1-score: 0.9766\n",
            "              precision    recall  f1-score   support\n",
            "\n",
            "         GPT       0.98      0.94      0.96        50\n",
            "        BARD       0.94      1.00      0.97        50\n",
            "       Human       0.98      0.98      0.98       200\n",
            "\n",
            "    accuracy                           0.98       300\n",
            "   macro avg       0.97      0.97      0.97       300\n",
            "weighted avg       0.98      0.98      0.98       300\n",
            "\n"
          ]
        }
      ],
      "source": [
        "import pandas as pd\n",
        "import torch\n",
        "from transformers import DistilBertTokenizer, DistilBertForSequenceClassification\n",
        "from torch.utils.data import DataLoader, Dataset\n",
        "from sklearn.model_selection import train_test_split\n",
        "from sklearn.metrics import accuracy_score, precision_score, recall_score, f1_score, classification_report\n",
        "\n",
        "# Load code datasets\n",
        "bird_code = pd.read_csv('/content/drive/MyDrive/data/BARD/BARD_pycode.csv')  # columns: index, prompts, BARD\n",
        "gpt_code = pd.read_csv('/content/drive/MyDrive/data/GPT/ChatGPT_pycode.csv')    # columns: prompts, responses\n",
        "human_code = pd.read_csv('/content/drive/MyDrive/data/Human/human_code.csv')  # columns: Task, Code\n",
        "\n",
        "# Prepare the texts and add source labels\n",
        "bird_code['text'] = bird_code['BARD']  # Adjust the column name accordingly\n",
        "gpt_code['text'] = gpt_code['responses']  # Adjust the column name accordingly\n",
        "human_code['text'] = human_code['Code']  # Use the 'Code' column for human data\n",
        "\n",
        "# Add source labels\n",
        "bird_code['source'] = 1  # BARD\n",
        "gpt_code['source'] = 0    # GPT\n",
        "human_code['source'] = 2   # Human\n",
        "\n",
        "human_code = human_code.head(1000)\n",
        "\n",
        "# Combine datasets\n",
        "code_data = pd.concat([bird_code[['text', 'source']], gpt_code[['text', 'source']], human_code[['text', 'source']]], ignore_index=True)\n",
        "\n",
        "# Clean the text\n",
        "code_data['text'] = (\n",
        "    code_data['text'].str.replace(r'http\\S+|www\\S+|https\\S+', '', case=False)  # Remove URLs\n",
        "    .str.replace(r'<.*?>', '', case=False)  # Remove HTML tags\n",
        "    .str.replace(r'\\s+', ' ', regex=True)  # Remove extra whitespaces\n",
        "    .str.lower()  # Convert to lowercase\n",
        ")\n",
        "\n",
        "# Handle NaN values: replace NaN with an empty string\n",
        "code_data['text'] = code_data['text'].fillna('')\n",
        "\n",
        "# Prepare features and labels\n",
        "X = code_data['text']\n",
        "y = code_data['source']\n",
        "\n",
        "# Tokenization with DistilBERT tokenizer\n",
        "tokenizer = DistilBertTokenizer.from_pretrained('distilbert-base-uncased')\n",
        "train_texts, test_texts, y_train, y_test = train_test_split(X, y, test_size=0.2, random_state=42, stratify=y)\n",
        "\n",
        "train_encodings = tokenizer(list(train_texts), truncation=True, padding=True, max_length=256)  # Reduced sequence length to 256\n",
        "test_encodings = tokenizer(list(test_texts), truncation=True, padding=True, max_length=256)\n",
        "\n",
        "# Define dataset class\n",
        "class CodeDataset(Dataset):\n",
        "    def __init__(self, encodings, labels):\n",
        "        self.encodings = encodings\n",
        "        self.labels = labels\n",
        "\n",
        "    def __getitem__(self, idx):\n",
        "        item = {key: torch.tensor(val[idx]) for key, val in self.encodings.items()}\n",
        "        item['labels'] = torch.tensor(self.labels[idx])\n",
        "        return item\n",
        "\n",
        "    def __len__(self):\n",
        "        return len(self.labels)\n",
        "\n",
        "# Create datasets\n",
        "train_dataset = CodeDataset(train_encodings, y_train.values)\n",
        "test_dataset = CodeDataset(test_encodings, y_test.values)\n",
        "\n",
        "# Load pre-trained DistilBERT model for classification\n",
        "model = DistilBertForSequenceClassification.from_pretrained('distilbert-base-uncased', num_labels=3)\n",
        "\n",
        "# Set up DataLoader with a smaller batch size\n",
        "train_loader = DataLoader(train_dataset, batch_size=4, shuffle=True)  # Reduced batch size to 4\n",
        "test_loader = DataLoader(test_dataset, batch_size=4, shuffle=False)\n",
        "\n",
        "# Move model to device\n",
        "device = torch.device('cuda' if torch.cuda.is_available() else 'cpu')\n",
        "model.to(device)\n",
        "\n",
        "# Mixed precision setup\n",
        "from torch.cuda.amp import GradScaler, autocast\n",
        "\n",
        "scaler = GradScaler()\n",
        "\n",
        "# Optimizer\n",
        "optimizer = torch.optim.AdamW(model.parameters(), lr=1e-5)\n",
        "\n",
        "# Training loop with gradient accumulation and mixed precision\n",
        "accumulation_steps = 4  # Accumulate gradients over 4 steps\n",
        "\n",
        "model.train()\n",
        "for epoch in range(3):  # You can increase the number of epochs for better performance\n",
        "    optimizer.zero_grad()\n",
        "    for i, batch in enumerate(train_loader):\n",
        "        with autocast():\n",
        "            inputs = {key: val.to(device) for key, val in batch.items() if key != 'labels'}\n",
        "            labels = batch['labels'].to(device)\n",
        "            outputs = model(**inputs, labels=labels)\n",
        "            loss = outputs.loss / accumulation_steps  # Normalize the loss by accumulation steps\n",
        "            scaler.scale(loss).backward()\n",
        "\n",
        "        # Perform optimization step every `accumulation_steps` batches\n",
        "        if (i + 1) % accumulation_steps == 0:\n",
        "            scaler.step(optimizer)\n",
        "            scaler.update()\n",
        "            optimizer.zero_grad()\n",
        "\n",
        "# Evaluation\n",
        "model.eval()\n",
        "y_pred = []\n",
        "\n",
        "with torch.no_grad():\n",
        "    for batch in test_loader:\n",
        "        inputs = {key: val.to(device) for key, val in batch.items() if key != 'labels'}\n",
        "        outputs = model(**inputs)\n",
        "        logits = outputs.logits\n",
        "        predictions = torch.argmax(logits, dim=-1)\n",
        "        y_pred.extend(predictions.cpu().numpy())\n",
        "\n",
        "# Calculate metrics\n",
        "accuracy = accuracy_score(y_test, y_pred)\n",
        "precision = precision_score(y_test, y_pred, average='weighted')\n",
        "recall = recall_score(y_test, y_pred, average='weighted')\n",
        "f1 = f1_score(y_test, y_pred, average='weighted')\n",
        "\n",
        "# Print results\n",
        "print(f\"Accuracy: {accuracy:.4f}\")\n",
        "print(f\"Precision: {precision:.4f}\")\n",
        "print(f\"Recall: {recall:.4f}\")\n",
        "print(f\"F1-score: {f1:.4f}\")\n",
        "print(classification_report(y_test, y_pred, target_names=['GPT', 'BARD', 'Human']))\n"
      ]
    }
  ]
}