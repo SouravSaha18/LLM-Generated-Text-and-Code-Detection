{
  "nbformat": 4,
  "nbformat_minor": 0,
  "metadata": {
    "colab": {
      "provenance": []
    },
    "kernelspec": {
      "name": "python3",
      "display_name": "Python 3"
    },
    "language_info": {
      "name": "python"
    }
  },
  "cells": [
    {
      "cell_type": "code",
      "source": [
        "import pandas as pd\n",
        "import numpy as np\n",
        "from sklearn.model_selection import train_test_split\n",
        "from sklearn.metrics import accuracy_score, precision_score, recall_score, f1_score, classification_report\n",
        "from tensorflow.keras.models import Sequential\n",
        "from tensorflow.keras.layers import Embedding, GRU, Dense, Dropout\n",
        "from tensorflow.keras.preprocessing.text import Tokenizer\n",
        "from tensorflow.keras.preprocessing.sequence import pad_sequences\n",
        "\n",
        "# Load code datasets\n",
        "bird_code = pd.read_csv('/content/drive/MyDrive/data/BARD/BARD_pycode.csv')  # columns: index, prompts, BARD\n",
        "gpt_code = pd.read_csv('/content/drive/MyDrive/data/GPT/ChatGPT_pycode.csv')    # columns: prompts, responses\n",
        "human_code = pd.read_csv('/content/drive/MyDrive/data/Human/human_code.csv') # columns: Task, Code\n",
        "\n",
        "# Prepare the texts and add source labels\n",
        "bird_code['text'] = bird_code['BARD']\n",
        "gpt_code['text'] = gpt_code['responses']\n",
        "human_code['text'] = human_code['Code']\n",
        "\n",
        "# Add source labels\n",
        "bird_code['source'] = 1  # BARD\n",
        "gpt_code['source'] = 0    # GPT\n",
        "human_code['source'] = 2   # Human\n",
        "\n",
        "# Combine datasets\n",
        "code_data = pd.concat([bird_code[['text', 'source']], gpt_code[['text', 'source']], human_code[['text', 'source']]], ignore_index=True)\n",
        "\n",
        "# Remove NaN values from the 'text' column\n",
        "code_data = code_data.dropna(subset=['text'])\n",
        "\n",
        "# Clean the text (example cleaning steps)\n",
        "code_data['text'] = (\n",
        "    code_data['text'].str.replace(r'http\\S+|www\\S+|https\\S+', '', case=False)  # Remove URLs\n",
        "    .str.replace(r'<.*?>', '', case=False)  # Remove HTML tags\n",
        "    .str.replace(r'\\s+', ' ', regex=True)  # Remove extra whitespaces\n",
        "    .str.lower()  # Convert to lowercase\n",
        ")\n",
        "\n",
        "# Prepare features and labels\n",
        "X = code_data['text']\n",
        "y = code_data['source']\n",
        "\n",
        "# Tokenization\n",
        "tokenizer = Tokenizer()\n",
        "tokenizer.fit_on_texts(X)\n",
        "X_sequences = tokenizer.texts_to_sequences(X)\n",
        "\n",
        "# Calculate max sequence length and vocabulary size\n",
        "max_length = max(len(seq) for seq in X_sequences)\n",
        "vocab_size = len(tokenizer.word_index) + 1  # +1 for padding\n",
        "\n",
        "# Pad sequences\n",
        "X_padded = pad_sequences(X_sequences, maxlen=max_length)\n",
        "\n",
        "# Split data into train and test sets\n",
        "X_train, X_test, y_train, y_test = train_test_split(X_padded, y, test_size=0.2, random_state=42, stratify=y)\n",
        "\n",
        "# GRU model architecture\n",
        "model = Sequential()\n",
        "model.add(Embedding(input_dim=vocab_size, output_dim=128, input_length=max_length))\n",
        "model.add(GRU(64, return_sequences=False))  # GRU layer for sequential data\n",
        "model.add(Dropout(0.5))  # Dropout for regularization\n",
        "model.add(Dense(64, activation='relu'))  # Fully connected layer\n",
        "model.add(Dense(3, activation='softmax'))  # 3 classes for multiclass classification\n",
        "\n",
        "# Compile the model\n",
        "model.compile(optimizer='adam', loss='sparse_categorical_crossentropy', metrics=['accuracy'])\n",
        "\n",
        "# Train the model\n",
        "model.fit(X_train, y_train, validation_data=(X_test, y_test), epochs=5, batch_size=32)\n",
        "\n",
        "# Evaluate the model\n",
        "y_pred = np.argmax(model.predict(X_test), axis=-1)\n",
        "\n",
        "# Calculate metrics\n",
        "accuracy = accuracy_score(y_test, y_pred)\n",
        "precision = precision_score(y_test, y_pred, average='weighted')\n",
        "recall = recall_score(y_test, y_pred, average='weighted')\n",
        "f1 = f1_score(y_test, y_pred, average='weighted')\n",
        "\n",
        "# Print results\n",
        "print(f\"Accuracy: {accuracy:.4f}\")\n",
        "print(f\"Precision: {precision:.4f}\")\n",
        "print(f\"Recall: {recall:.4f}\")\n",
        "print(f\"F1-score: {f1:.4f}\")\n",
        "print(classification_report(y_test, y_pred, target_names=['GPT', 'BARD', 'Human']))\n"
      ],
      "metadata": {
        "colab": {
          "base_uri": "https://localhost:8080/"
        },
        "id": "jJOz7L4UVMAN",
        "outputId": "5f6909db-29d6-417f-ae97-57d6b3dd0137"
      },
      "execution_count": null,
      "outputs": [
        {
          "output_type": "stream",
          "name": "stdout",
          "text": [
            "Epoch 1/5\n"
          ]
        },
        {
          "output_type": "stream",
          "name": "stderr",
          "text": [
            "/usr/local/lib/python3.10/dist-packages/keras/src/layers/core/embedding.py:90: UserWarning: Argument `input_length` is deprecated. Just remove it.\n",
            "  warnings.warn(\n"
          ]
        },
        {
          "output_type": "stream",
          "name": "stdout",
          "text": [
            "\u001b[1m121/121\u001b[0m \u001b[32m━━━━━━━━━━━━━━━━━━━━\u001b[0m\u001b[37m\u001b[0m \u001b[1m242s\u001b[0m 2s/step - accuracy: 0.8460 - loss: 0.6321 - val_accuracy: 0.9438 - val_loss: 0.1532\n",
            "Epoch 2/5\n",
            "\u001b[1m121/121\u001b[0m \u001b[32m━━━━━━━━━━━━━━━━━━━━\u001b[0m\u001b[37m\u001b[0m \u001b[1m260s\u001b[0m 2s/step - accuracy: 0.9433 - loss: 0.1370 - val_accuracy: 0.9719 - val_loss: 0.1023\n",
            "Epoch 3/5\n",
            "\u001b[1m121/121\u001b[0m \u001b[32m━━━━━━━━━━━━━━━━━━━━\u001b[0m\u001b[37m\u001b[0m \u001b[1m239s\u001b[0m 2s/step - accuracy: 0.9846 - loss: 0.0548 - val_accuracy: 0.9802 - val_loss: 0.0674\n",
            "Epoch 4/5\n",
            "\u001b[1m121/121\u001b[0m \u001b[32m━━━━━━━━━━━━━━━━━━━━\u001b[0m\u001b[37m\u001b[0m \u001b[1m270s\u001b[0m 2s/step - accuracy: 0.9966 - loss: 0.0153 - val_accuracy: 0.9875 - val_loss: 0.0481\n",
            "Epoch 5/5\n",
            "\u001b[1m121/121\u001b[0m \u001b[32m━━━━━━━━━━━━━━━━━━━━\u001b[0m\u001b[37m\u001b[0m \u001b[1m249s\u001b[0m 2s/step - accuracy: 0.9970 - loss: 0.0154 - val_accuracy: 0.9844 - val_loss: 0.0684\n",
            "\u001b[1m31/31\u001b[0m \u001b[32m━━━━━━━━━━━━━━━━━━━━\u001b[0m\u001b[37m\u001b[0m \u001b[1m10s\u001b[0m 333ms/step\n",
            "Accuracy: 0.9844\n",
            "Precision: 0.9842\n",
            "Recall: 0.9844\n",
            "F1-score: 0.9841\n",
            "              precision    recall  f1-score   support\n",
            "\n",
            "         GPT       0.96      0.88      0.92        50\n",
            "        BARD       0.96      0.90      0.93        49\n",
            "       Human       0.99      1.00      0.99       862\n",
            "\n",
            "    accuracy                           0.98       961\n",
            "   macro avg       0.97      0.92      0.94       961\n",
            "weighted avg       0.98      0.98      0.98       961\n",
            "\n"
          ]
        }
      ]
    }
  ]
}